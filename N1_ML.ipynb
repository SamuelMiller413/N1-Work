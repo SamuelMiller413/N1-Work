{
  "nbformat": 4,
  "nbformat_minor": 0,
  "metadata": {
    "colab": {
      "provenance": [],
      "collapsed_sections": [
        "QP5IrsZgtD1f",
        "HNqpDN1wtLcC",
        "5C5EUmUbuVJK",
        "T4n2AwYbxTmr",
        "FgVB_Zndxb4W"
      ],
      "authorship_tag": "ABX9TyMamGbv5xWUGwQljz2TB1/1",
      "include_colab_link": true
    },
    "kernelspec": {
      "name": "python3",
      "display_name": "Python 3"
    },
    "language_info": {
      "name": "python"
    }
  },
  "cells": [
    {
      "cell_type": "markdown",
      "metadata": {
        "id": "view-in-github",
        "colab_type": "text"
      },
      "source": [
        "<a href=\"https://colab.research.google.com/github/SamuelMiller413/N1-Health/blob/main/N1_ML.ipynb\" target=\"_parent\"><img src=\"https://colab.research.google.com/assets/colab-badge.svg\" alt=\"Open In Colab\"/></a>"
      ]
    },
    {
      "cell_type": "markdown",
      "source": [
        "### Set Up"
      ],
      "metadata": {
        "id": "us6kIb3gs8OP"
      }
    },
    {
      "cell_type": "markdown",
      "source": [
        "#### Imports"
      ],
      "metadata": {
        "id": "QP5IrsZgtD1f"
      }
    },
    {
      "cell_type": "code",
      "execution_count": 1,
      "metadata": {
        "id": "icEMzCtSWTvS"
      },
      "outputs": [],
      "source": [
        "import numpy as np \n",
        "import pandas as pd \n",
        "\n",
        "                                                                          # PRE-PROCESSING\n",
        "from sklearn.preprocessing import StandardScaler\n",
        "                                                                          # FEATURE SELECTION\n",
        "from sklearn.neighbors import KNeighborsRegressor\n",
        "from sklearn.decomposition import PCA\n",
        "from sklearn.cluster import KMeans\n",
        "from sklearn.ensemble import ExtraTreesRegressor\n",
        "from sklearn.feature_selection import SelectFromModel, mutual_info_regression, RFE, RFECV\n",
        "\n",
        "                                                                          # PIPELINE\n",
        "from sklearn.pipeline import Pipeline\n",
        "                                                                          # REGRESSORS       \n",
        "from sklearn.dummy import DummyRegressor\n",
        "from sklearn.ensemble import RandomForestRegressor\n",
        "from sklearn.linear_model import LinearRegression, SGDRegressor\n",
        "                                          \n",
        "                                                                          # NEURAL NETWORK\n",
        "from sklearn.neural_network import MLPRegressor\n",
        "\n",
        "                                                                          # CROSS VALIDATION\n",
        "from sklearn.model_selection import train_test_split, cross_val_score, ShuffleSplit, StratifiedKFold\n",
        "from sklearn.model_selection import learning_curve, cross_val_predict\n",
        "from sklearn.model_selection import KFold, RandomizedSearchCV\n",
        "\n",
        "                                                                          # EVALUATION\n",
        "from sklearn.metrics import explained_variance_score, mean_absolute_error, mean_squared_error\n",
        "from sklearn.metrics import r2_score\n",
        "from sklearn.metrics import silhouette_score\n",
        "from sklearn.metrics import SCORERS\n",
        "\n",
        "                                                                          # PLOTTING\n",
        "import random\n",
        "import matplotlib.pyplot as plt\n",
        "%matplotlib inline\n",
        "import seaborn as sns\n",
        "\n",
        "                                                                          # DATA SET\n",
        "\n"
      ]
    },
    {
      "cell_type": "markdown",
      "source": [
        "#### Drive Mount"
      ],
      "metadata": {
        "id": "HNqpDN1wtLcC"
      }
    },
    {
      "cell_type": "code",
      "source": [
        "# mount drive\n",
        "from google.colab import drive\n",
        "drive.mount('/content/drive')"
      ],
      "metadata": {
        "colab": {
          "base_uri": "https://localhost:8080/"
        },
        "id": "UAog5lreX-EQ",
        "outputId": "e9cf70cf-518d-4646-dbbb-c8e237d19b23"
      },
      "execution_count": 2,
      "outputs": [
        {
          "output_type": "stream",
          "name": "stdout",
          "text": [
            "Drive already mounted at /content/drive; to attempt to forcibly remount, call drive.mount(\"/content/drive\", force_remount=True).\n"
          ]
        }
      ]
    },
    {
      "cell_type": "markdown",
      "source": [
        "#### Data Load"
      ],
      "metadata": {
        "id": "m33ydNittP8y"
      }
    },
    {
      "cell_type": "markdown",
      "source": [
        "##### FDA\n",
        "\n",
        "The Food Atlas data span multiple CSV's:\n",
        "* primary dataset\n",
        "* variable list\n",
        "* 2 supplemental datasets \n",
        "    * county\n",
        "    * state\n",
        "<br/>  \n",
        "\n",
        "I'll be supplementing the primary\n",
        "dataset with the county dataset and using the variable list for reference while merging and parsing the dataframes."
      ],
      "metadata": {
        "id": "5C5EUmUbuVJK"
      }
    },
    {
      "cell_type": "code",
      "source": [
        "# # path to excel\n",
        "# atlas = '/content/drive/MyDrive/N1 Health/N1 Health/Datasets/Food Atlas/FoodEnvironmentAtlas.xls'\n",
        "\n",
        "# # read to df\n",
        "# df_atlas = pd.read_excel(atlas)"
      ],
      "metadata": {
        "id": "sVHyP2fjYgZz"
      },
      "execution_count": 3,
      "outputs": []
    },
    {
      "cell_type": "code",
      "source": [
        "# path to primary csv\n",
        "fda = '/content/drive/MyDrive/N1 Health/N1 Health/Datasets//USDA ERS/StateAndCountyData.csv'\n",
        "\n",
        "# path to variable list\n",
        "fda_vars = '/content/drive/MyDrive/N1 Health/N1 Health/Datasets/USDA ERS/VariableList.csv'\n",
        "\n",
        "# supplemental FDA paths\n",
        "# fda_county = '/content/drive/MyDrive/N1 Health/N1 Health/Datasets/USDA ERS/SupplementalDataCounty.csv'\n",
        "# fda_state = '/content/drive/MyDrive/N1 Health/N1 Health/Datasets/USDA ERS/SupplementalDataState.csv'\n",
        "\n",
        "# read to df\n",
        "df_fda_raw = pd.read_csv(fda) # Needs processing\n",
        "df_fda_vars = pd.read_csv(fda_vars)\n",
        "# df_fda_county = pd.read_csv(fda_county)\n",
        "# df_fda_state = pd.read_csv(fda_state)"
      ],
      "metadata": {
        "id": "XjrRF22-uZpP"
      },
      "execution_count": 4,
      "outputs": []
    },
    {
      "cell_type": "markdown",
      "source": [
        "##### CDC"
      ],
      "metadata": {
        "id": "T4n2AwYbxTmr"
      }
    },
    {
      "cell_type": "code",
      "source": [
        "## path\n",
        "# cdc = '/content/drive/MyDrive/N1 Health/N1 Health/Datasets/CDC/500_Cities__Census_Tract-level_Data__GIS_Friendly_Format___2019_release.csv'\n",
        "\n",
        "## read to df\n",
        "# df_cdc = pd.read_csv(cdc)"
      ],
      "metadata": {
        "id": "B2OlRgB7wcQt"
      },
      "execution_count": 5,
      "outputs": []
    },
    {
      "cell_type": "markdown",
      "source": [
        "##### CMS"
      ],
      "metadata": {
        "id": "FgVB_Zndxb4W"
      }
    },
    {
      "cell_type": "code",
      "source": [
        "# path\n",
        "# cms = '/content/drive/MyDrive/N1 Health/N1 Health/Datasets/CMS/Geographic Variation Public Use File State County.csv'\n",
        "\n",
        "# read to df\n",
        "# df_cms = pd.read_csv(cms)"
      ],
      "metadata": {
        "id": "LM1Q7o72XMX9"
      },
      "execution_count": 6,
      "outputs": []
    },
    {
      "cell_type": "markdown",
      "source": [
        "### Wrangling / Initial EDA"
      ],
      "metadata": {
        "id": "g8nADzWWtW5y"
      }
    },
    {
      "cell_type": "markdown",
      "source": [
        "#### df_fda_vars"
      ],
      "metadata": {
        "id": "CjaVNrwoytbL"
      }
    },
    {
      "cell_type": "code",
      "source": [
        "df_fda_vars"
      ],
      "metadata": {
        "colab": {
          "base_uri": "https://localhost:8080/",
          "height": 728
        },
        "id": "uoGQeuSuy5SU",
        "outputId": "7bab7c4a-738f-4097-cb36-907348b7993a"
      },
      "execution_count": 7,
      "outputs": [
        {
          "output_type": "execute_result",
          "data": {
            "text/plain": [
              "                                         Variable_Name  \\\n",
              "0                Population, low access to store, 2010   \n",
              "1                Population, low access to store, 2015   \n",
              "2    Population, low access to store (% change), 20...   \n",
              "3            Population, low access to store (%), 2010   \n",
              "4            Population, low access to store (%), 2015   \n",
              "..                                                 ...   \n",
              "276                  Persistent-poverty counties, 2010   \n",
              "277                           Child poverty rate, 2015   \n",
              "278            Persistent-child-poverty counties, 2010   \n",
              "279                      Metro/nonmetro counties, 2010   \n",
              "280                     Population-loss counties, 2010   \n",
              "\n",
              "                             Category_Name  Category_Code Subcategory_Name  \\\n",
              "0    Access and Proximity to Grocery Store         ACCESS          Overall   \n",
              "1    Access and Proximity to Grocery Store         ACCESS          Overall   \n",
              "2    Access and Proximity to Grocery Store         ACCESS          Overall   \n",
              "3    Access and Proximity to Grocery Store         ACCESS          Overall   \n",
              "4    Access and Proximity to Grocery Store         ACCESS          Overall   \n",
              "..                                     ...            ...              ...   \n",
              "276          Socioeconomic Characteristics  SOCIOECONOMIC     Income Level   \n",
              "277          Socioeconomic Characteristics  SOCIOECONOMIC     Income Level   \n",
              "278          Socioeconomic Characteristics  SOCIOECONOMIC     Income Level   \n",
              "279          Socioeconomic Characteristics  SOCIOECONOMIC            Other   \n",
              "280          Socioeconomic Characteristics  SOCIOECONOMIC            Other   \n",
              "\n",
              "             Variable_Code Geography     Units  \n",
              "0            LACCESS_POP10    CNTY10     Count  \n",
              "1            LACCESS_POP15    CNTY10     Count  \n",
              "2    PCH_LACCESS_POP_10_15    CNTY10  % change  \n",
              "3        PCT_LACCESS_POP10    CNTY10   Percent  \n",
              "4        PCT_LACCESS_POP15    CNTY10   Percent  \n",
              "..                     ...       ...       ...  \n",
              "276               PERPOV10    CNTY10    Legend  \n",
              "277         CHILDPOVRATE15    CNTY10   Percent  \n",
              "278           PERCHLDPOV10    CNTY10    Legend  \n",
              "279                METRO13    CNTY10    Legend  \n",
              "280              POPLOSS10    CNTY10    Legend  \n",
              "\n",
              "[281 rows x 7 columns]"
            ],
            "text/html": [
              "\n",
              "  <div id=\"df-8318297c-5db2-460b-97e5-0d0fcb55c878\">\n",
              "    <div class=\"colab-df-container\">\n",
              "      <div>\n",
              "<style scoped>\n",
              "    .dataframe tbody tr th:only-of-type {\n",
              "        vertical-align: middle;\n",
              "    }\n",
              "\n",
              "    .dataframe tbody tr th {\n",
              "        vertical-align: top;\n",
              "    }\n",
              "\n",
              "    .dataframe thead th {\n",
              "        text-align: right;\n",
              "    }\n",
              "</style>\n",
              "<table border=\"1\" class=\"dataframe\">\n",
              "  <thead>\n",
              "    <tr style=\"text-align: right;\">\n",
              "      <th></th>\n",
              "      <th>Variable_Name</th>\n",
              "      <th>Category_Name</th>\n",
              "      <th>Category_Code</th>\n",
              "      <th>Subcategory_Name</th>\n",
              "      <th>Variable_Code</th>\n",
              "      <th>Geography</th>\n",
              "      <th>Units</th>\n",
              "    </tr>\n",
              "  </thead>\n",
              "  <tbody>\n",
              "    <tr>\n",
              "      <th>0</th>\n",
              "      <td>Population, low access to store, 2010</td>\n",
              "      <td>Access and Proximity to Grocery Store</td>\n",
              "      <td>ACCESS</td>\n",
              "      <td>Overall</td>\n",
              "      <td>LACCESS_POP10</td>\n",
              "      <td>CNTY10</td>\n",
              "      <td>Count</td>\n",
              "    </tr>\n",
              "    <tr>\n",
              "      <th>1</th>\n",
              "      <td>Population, low access to store, 2015</td>\n",
              "      <td>Access and Proximity to Grocery Store</td>\n",
              "      <td>ACCESS</td>\n",
              "      <td>Overall</td>\n",
              "      <td>LACCESS_POP15</td>\n",
              "      <td>CNTY10</td>\n",
              "      <td>Count</td>\n",
              "    </tr>\n",
              "    <tr>\n",
              "      <th>2</th>\n",
              "      <td>Population, low access to store (% change), 20...</td>\n",
              "      <td>Access and Proximity to Grocery Store</td>\n",
              "      <td>ACCESS</td>\n",
              "      <td>Overall</td>\n",
              "      <td>PCH_LACCESS_POP_10_15</td>\n",
              "      <td>CNTY10</td>\n",
              "      <td>% change</td>\n",
              "    </tr>\n",
              "    <tr>\n",
              "      <th>3</th>\n",
              "      <td>Population, low access to store (%), 2010</td>\n",
              "      <td>Access and Proximity to Grocery Store</td>\n",
              "      <td>ACCESS</td>\n",
              "      <td>Overall</td>\n",
              "      <td>PCT_LACCESS_POP10</td>\n",
              "      <td>CNTY10</td>\n",
              "      <td>Percent</td>\n",
              "    </tr>\n",
              "    <tr>\n",
              "      <th>4</th>\n",
              "      <td>Population, low access to store (%), 2015</td>\n",
              "      <td>Access and Proximity to Grocery Store</td>\n",
              "      <td>ACCESS</td>\n",
              "      <td>Overall</td>\n",
              "      <td>PCT_LACCESS_POP15</td>\n",
              "      <td>CNTY10</td>\n",
              "      <td>Percent</td>\n",
              "    </tr>\n",
              "    <tr>\n",
              "      <th>...</th>\n",
              "      <td>...</td>\n",
              "      <td>...</td>\n",
              "      <td>...</td>\n",
              "      <td>...</td>\n",
              "      <td>...</td>\n",
              "      <td>...</td>\n",
              "      <td>...</td>\n",
              "    </tr>\n",
              "    <tr>\n",
              "      <th>276</th>\n",
              "      <td>Persistent-poverty counties, 2010</td>\n",
              "      <td>Socioeconomic Characteristics</td>\n",
              "      <td>SOCIOECONOMIC</td>\n",
              "      <td>Income Level</td>\n",
              "      <td>PERPOV10</td>\n",
              "      <td>CNTY10</td>\n",
              "      <td>Legend</td>\n",
              "    </tr>\n",
              "    <tr>\n",
              "      <th>277</th>\n",
              "      <td>Child poverty rate, 2015</td>\n",
              "      <td>Socioeconomic Characteristics</td>\n",
              "      <td>SOCIOECONOMIC</td>\n",
              "      <td>Income Level</td>\n",
              "      <td>CHILDPOVRATE15</td>\n",
              "      <td>CNTY10</td>\n",
              "      <td>Percent</td>\n",
              "    </tr>\n",
              "    <tr>\n",
              "      <th>278</th>\n",
              "      <td>Persistent-child-poverty counties, 2010</td>\n",
              "      <td>Socioeconomic Characteristics</td>\n",
              "      <td>SOCIOECONOMIC</td>\n",
              "      <td>Income Level</td>\n",
              "      <td>PERCHLDPOV10</td>\n",
              "      <td>CNTY10</td>\n",
              "      <td>Legend</td>\n",
              "    </tr>\n",
              "    <tr>\n",
              "      <th>279</th>\n",
              "      <td>Metro/nonmetro counties, 2010</td>\n",
              "      <td>Socioeconomic Characteristics</td>\n",
              "      <td>SOCIOECONOMIC</td>\n",
              "      <td>Other</td>\n",
              "      <td>METRO13</td>\n",
              "      <td>CNTY10</td>\n",
              "      <td>Legend</td>\n",
              "    </tr>\n",
              "    <tr>\n",
              "      <th>280</th>\n",
              "      <td>Population-loss counties, 2010</td>\n",
              "      <td>Socioeconomic Characteristics</td>\n",
              "      <td>SOCIOECONOMIC</td>\n",
              "      <td>Other</td>\n",
              "      <td>POPLOSS10</td>\n",
              "      <td>CNTY10</td>\n",
              "      <td>Legend</td>\n",
              "    </tr>\n",
              "  </tbody>\n",
              "</table>\n",
              "<p>281 rows × 7 columns</p>\n",
              "</div>\n",
              "      <button class=\"colab-df-convert\" onclick=\"convertToInteractive('df-8318297c-5db2-460b-97e5-0d0fcb55c878')\"\n",
              "              title=\"Convert this dataframe to an interactive table.\"\n",
              "              style=\"display:none;\">\n",
              "        \n",
              "  <svg xmlns=\"http://www.w3.org/2000/svg\" height=\"24px\"viewBox=\"0 0 24 24\"\n",
              "       width=\"24px\">\n",
              "    <path d=\"M0 0h24v24H0V0z\" fill=\"none\"/>\n",
              "    <path d=\"M18.56 5.44l.94 2.06.94-2.06 2.06-.94-2.06-.94-.94-2.06-.94 2.06-2.06.94zm-11 1L8.5 8.5l.94-2.06 2.06-.94-2.06-.94L8.5 2.5l-.94 2.06-2.06.94zm10 10l.94 2.06.94-2.06 2.06-.94-2.06-.94-.94-2.06-.94 2.06-2.06.94z\"/><path d=\"M17.41 7.96l-1.37-1.37c-.4-.4-.92-.59-1.43-.59-.52 0-1.04.2-1.43.59L10.3 9.45l-7.72 7.72c-.78.78-.78 2.05 0 2.83L4 21.41c.39.39.9.59 1.41.59.51 0 1.02-.2 1.41-.59l7.78-7.78 2.81-2.81c.8-.78.8-2.07 0-2.86zM5.41 20L4 18.59l7.72-7.72 1.47 1.35L5.41 20z\"/>\n",
              "  </svg>\n",
              "      </button>\n",
              "      \n",
              "  <style>\n",
              "    .colab-df-container {\n",
              "      display:flex;\n",
              "      flex-wrap:wrap;\n",
              "      gap: 12px;\n",
              "    }\n",
              "\n",
              "    .colab-df-convert {\n",
              "      background-color: #E8F0FE;\n",
              "      border: none;\n",
              "      border-radius: 50%;\n",
              "      cursor: pointer;\n",
              "      display: none;\n",
              "      fill: #1967D2;\n",
              "      height: 32px;\n",
              "      padding: 0 0 0 0;\n",
              "      width: 32px;\n",
              "    }\n",
              "\n",
              "    .colab-df-convert:hover {\n",
              "      background-color: #E2EBFA;\n",
              "      box-shadow: 0px 1px 2px rgba(60, 64, 67, 0.3), 0px 1px 3px 1px rgba(60, 64, 67, 0.15);\n",
              "      fill: #174EA6;\n",
              "    }\n",
              "\n",
              "    [theme=dark] .colab-df-convert {\n",
              "      background-color: #3B4455;\n",
              "      fill: #D2E3FC;\n",
              "    }\n",
              "\n",
              "    [theme=dark] .colab-df-convert:hover {\n",
              "      background-color: #434B5C;\n",
              "      box-shadow: 0px 1px 3px 1px rgba(0, 0, 0, 0.15);\n",
              "      filter: drop-shadow(0px 1px 2px rgba(0, 0, 0, 0.3));\n",
              "      fill: #FFFFFF;\n",
              "    }\n",
              "  </style>\n",
              "\n",
              "      <script>\n",
              "        const buttonEl =\n",
              "          document.querySelector('#df-8318297c-5db2-460b-97e5-0d0fcb55c878 button.colab-df-convert');\n",
              "        buttonEl.style.display =\n",
              "          google.colab.kernel.accessAllowed ? 'block' : 'none';\n",
              "\n",
              "        async function convertToInteractive(key) {\n",
              "          const element = document.querySelector('#df-8318297c-5db2-460b-97e5-0d0fcb55c878');\n",
              "          const dataTable =\n",
              "            await google.colab.kernel.invokeFunction('convertToInteractive',\n",
              "                                                     [key], {});\n",
              "          if (!dataTable) return;\n",
              "\n",
              "          const docLinkHtml = 'Like what you see? Visit the ' +\n",
              "            '<a target=\"_blank\" href=https://colab.research.google.com/notebooks/data_table.ipynb>data table notebook</a>'\n",
              "            + ' to learn more about interactive tables.';\n",
              "          element.innerHTML = '';\n",
              "          dataTable['output_type'] = 'display_data';\n",
              "          await google.colab.output.renderOutput(dataTable, element);\n",
              "          const docLink = document.createElement('div');\n",
              "          docLink.innerHTML = docLinkHtml;\n",
              "          element.appendChild(docLink);\n",
              "        }\n",
              "      </script>\n",
              "    </div>\n",
              "  </div>\n",
              "  "
            ]
          },
          "metadata": {},
          "execution_count": 7
        }
      ]
    },
    {
      "cell_type": "code",
      "source": [
        "df_fda_vars.Category_Code.unique().tolist()"
      ],
      "metadata": {
        "colab": {
          "base_uri": "https://localhost:8080/"
        },
        "id": "aJ3RCajm0lf2",
        "outputId": "11420405-66cf-4101-b51b-a2f05285ccc9"
      },
      "execution_count": 8,
      "outputs": [
        {
          "output_type": "execute_result",
          "data": {
            "text/plain": [
              "['ACCESS',\n",
              " 'STORES',\n",
              " 'RESTAURANTS',\n",
              " 'ASSISTANCE',\n",
              " 'INSECURITY',\n",
              " 'PRICES_TAXES',\n",
              " 'LOCAL',\n",
              " 'HEALTH',\n",
              " 'SOCIOECONOMIC']"
            ]
          },
          "metadata": {},
          "execution_count": 8
        }
      ]
    },
    {
      "cell_type": "code",
      "source": [
        "df_fda_vars.Subcategory_Name.unique().tolist()"
      ],
      "metadata": {
        "colab": {
          "base_uri": "https://localhost:8080/"
        },
        "id": "wk-d19PFKBUD",
        "outputId": "dcd1938c-e664-4465-94bd-e5b6b74a1f78"
      },
      "execution_count": 9,
      "outputs": [
        {
          "output_type": "execute_result",
          "data": {
            "text/plain": [
              "['Overall',\n",
              " 'Household Resources',\n",
              " 'Demographics',\n",
              " 'Grocery',\n",
              " 'Supercenters',\n",
              " 'Convenience',\n",
              " 'Specialized',\n",
              " 'SNAP-authorized',\n",
              " 'WIC-authorized',\n",
              " 'Fast-food',\n",
              " 'Full-service',\n",
              " 'Expenditures',\n",
              " 'SNAP',\n",
              " 'National School Lunch Program',\n",
              " 'School Breakfast Program',\n",
              " 'Summer Food Service Program',\n",
              " 'WIC',\n",
              " 'Child & Adult Care',\n",
              " 'FDPIR',\n",
              " 'Non-USDA',\n",
              " 'State Food Insecurity',\n",
              " 'Sales Tax',\n",
              " 'Direct Sales',\n",
              " \"Farmers' Markets\",\n",
              " 'Farms & Crop Acreage',\n",
              " 'Other Local Food Outlets',\n",
              " 'Health',\n",
              " 'Physical Activity',\n",
              " 'Race & Age',\n",
              " 'Income Level',\n",
              " 'Other']"
            ]
          },
          "metadata": {},
          "execution_count": 9
        }
      ]
    },
    {
      "cell_type": "code",
      "source": [
        "def subcat_var(df):\n",
        "    '''\n",
        "    Creates adictionary of variables for each SUB category\n",
        "    in the variable list df.\n",
        "    '''\n",
        "    subcat_list = df.Subcategory_Name.unique().tolist()\n",
        "    sub_cats = {}\n",
        "    for i in range(len(subcat_list)):\n",
        "        sub_cats[subcat_list[i]] = df[df.Subcategory_Name == subcat_list[i]].Variable_Code.tolist()\n",
        "    for k,v in sub_cats.items():\n",
        "        print(f'{k}:')\n",
        "        print(v)\n",
        "        print('')\n",
        "    return sub_cats"
      ],
      "metadata": {
        "id": "mskAygpy3XqM"
      },
      "execution_count": 10,
      "outputs": []
    },
    {
      "cell_type": "code",
      "source": [
        "sub_cats = subcat_var(df_fda_vars)"
      ],
      "metadata": {
        "colab": {
          "base_uri": "https://localhost:8080/"
        },
        "id": "iGLaHG-cLB-U",
        "outputId": "d15bc3ac-a91f-45bc-8a44-4fdf99190992"
      },
      "execution_count": 11,
      "outputs": [
        {
          "output_type": "stream",
          "name": "stdout",
          "text": [
            "Overall:\n",
            "['LACCESS_POP10', 'LACCESS_POP15', 'PCH_LACCESS_POP_10_15', 'PCT_LACCESS_POP10', 'PCT_LACCESS_POP15']\n",
            "\n",
            "Household Resources:\n",
            "['LACCESS_LOWI10', 'LACCESS_LOWI15', 'PCH_LACCESS_LOWI_10_15', 'PCT_LACCESS_LOWI10', 'PCT_LACCESS_LOWI15', 'LACCESS_HHNV10', 'LACCESS_HHNV15', 'PCH_LACCESS_HHNV_10_15', 'PCT_LACCESS_HHNV10', 'PCT_LACCESS_HHNV15', 'LACCESS_SNAP15', 'PCT_LACCESS_SNAP15']\n",
            "\n",
            "Demographics:\n",
            "['LACCESS_CHILD10', 'LACCESS_CHILD15', 'PCH_LACCESS_CHILD_10_15', 'PCT_LACCESS_CHILD10', 'PCT_LACCESS_CHILD15', 'LACCESS_SENIORS10', 'LACCESS_SENIORS15', 'PCH_LACCESS_SENIORS_10_15', 'PCT_LACCESS_SENIORS10', 'PCT_LACCESS_SENIORS15', 'LACCESS_WHITE15', 'PCT_LACCESS_WHITE15', 'LACCESS_BLACK15', 'PCT_LACCESS_BLACK15', 'LACCESS_HISP15', 'PCT_LACCESS_HISP15', 'LACCESS_NHASIAN15', 'PCT_LACCESS_NHASIAN15', 'LACCESS_NHNA15', 'PCT_LACCESS_NHNA15', 'LACCESS_NHPI15', 'PCT_LACCESS_NHPI15', 'LACCESS_MULTIR15', 'PCT_LACCESS_MULTIR15']\n",
            "\n",
            "Grocery:\n",
            "['GROC11', 'GROC16', 'PCH_GROC_11_16', 'GROCPTH11', 'GROCPTH16', 'PCH_GROCPTH_11_16']\n",
            "\n",
            "Supercenters:\n",
            "['SUPERC11', 'SUPERC16', 'PCH_SUPERC_11_16', 'SUPERCPTH11', 'SUPERCPTH16', 'PCH_SUPERCPTH_11_16']\n",
            "\n",
            "Convenience:\n",
            "['CONVS11', 'CONVS16', 'PCH_CONVS_11_16', 'CONVSPTH11', 'CONVSPTH16', 'PCH_CONVSPTH_11_16']\n",
            "\n",
            "Specialized:\n",
            "['SPECS11', 'SPECS16', 'PCH_SPECS_11_16', 'SPECSPTH11', 'SPECSPTH16', 'PCH_SPECSPTH_11_16']\n",
            "\n",
            "SNAP-authorized:\n",
            "['SNAPS12', 'SNAPS17', 'PCH_SNAPS_12_17', 'SNAPSPTH12', 'SNAPSPTH17', 'PCH_SNAPSPTH_12_17']\n",
            "\n",
            "WIC-authorized:\n",
            "['WICS11', 'WICS16', 'PCH_WICS_11_16', 'WICSPTH11', 'WICSPTH16', 'PCH_WICSPTH_11_16']\n",
            "\n",
            "Fast-food:\n",
            "['FFR11', 'FFR16', 'PCH_FFR_11_16', 'FFRPTH11', 'FFRPTH16', 'PCH_FFRPTH_11_16']\n",
            "\n",
            "Full-service:\n",
            "['FSR11', 'FSR16', 'PCH_FSR_11_16', 'FSRPTH11', 'FSRPTH16', 'PCH_FSRPTH_11_16']\n",
            "\n",
            "Expenditures:\n",
            "['PC_FFRSALES07', 'PC_FFRSALES12', 'PC_FSRSALES07', 'PC_FSRSALES12']\n",
            "\n",
            "SNAP:\n",
            "['REDEMP_SNAPS12', 'REDEMP_SNAPS17', 'PCH_REDEMP_SNAPS_12_17', 'PCT_SNAP12', 'PCT_SNAP17', 'PCH_SNAP_12_17', 'PC_SNAPBEN12', 'PC_SNAPBEN17', 'PCH_PC_SNAPBEN_12_17', 'SNAP_PART_RATE11', 'SNAP_PART_RATE16', 'SNAP_OAPP09', 'SNAP_OAPP16', 'SNAP_CAP09', 'SNAP_CAP16', 'SNAP_BBCE09', 'SNAP_BBCE16', 'SNAP_REPORTSIMPLE09', 'SNAP_REPORTSIMPLE16']\n",
            "\n",
            "National School Lunch Program:\n",
            "['PCT_NSLP12', 'PCT_NSLP17', 'PCH_NSLP_12_17', 'PCT_FREE_LUNCH10', 'PCT_FREE_LUNCH15', 'PCT_REDUCED_LUNCH10', 'PCT_REDUCED_LUNCH15']\n",
            "\n",
            "School Breakfast Program:\n",
            "['PCT_SBP12', 'PCT_SBP17', 'PCH_SBP_12_17']\n",
            "\n",
            "Summer Food Service Program:\n",
            "['PCT_SFSP12', 'PCT_SFSP17', 'PCH_SFSP_12_17']\n",
            "\n",
            "WIC:\n",
            "['PC_WIC_REDEMP11', 'PC_WIC_REDEMP16', 'PCH_PC_WIC_REDEMP_11_16', 'REDEMP_WICS11', 'REDEMP_WICS16', 'PCH_REDEMP_WICS_11_16', 'PCT_WIC12', 'PCT_WIC17', 'PCH_WIC_12_17', 'PCT_WICINFANTCHILD14', 'PCT_WICINFANTCHILD16', 'PCH_WICINFANTCHILD_14_16', 'PCT_WICWOMEN14', 'PCT_WICWOMEN16', 'PCH_WICWOMEN_14_16']\n",
            "\n",
            "Child & Adult Care:\n",
            "['PCT_CACFP12', 'PCT_CACFP17', 'PCH_CACFP_12_17']\n",
            "\n",
            "FDPIR:\n",
            "['FDPIR12', 'FDPIR15', 'PCH_FDPIR_12_15']\n",
            "\n",
            "Non-USDA:\n",
            "['FOOD_BANKS18']\n",
            "\n",
            "State Food Insecurity:\n",
            "['FOODINSEC_12_14', 'FOODINSEC_15_17', 'CH_FOODINSEC_14_17', 'VLFOODSEC_12_14', 'VLFOODSEC_15_17', 'CH_VLFOODSEC_14_17']\n",
            "\n",
            "Sales Tax:\n",
            "['SODATAX_STORES14', 'SODATAX_VENDM14', 'CHIPSTAX_STORES14', 'CHIPSTAX_VENDM14', 'FOOD_TAX14']\n",
            "\n",
            "Direct Sales:\n",
            "['DIRSALES_FARMS07', 'DIRSALES_FARMS12', 'PCH_DIRSALES_FARMS_07_12', 'PCT_LOCLFARM07', 'PCT_LOCLFARM12', 'PCT_LOCLSALE07', 'PCT_LOCLSALE12', 'DIRSALES07', 'DIRSALES12', 'PCH_DIRSALES_07_12', 'PC_DIRSALES07', 'PC_DIRSALES12', 'PCH_PC_DIRSALES_07_12']\n",
            "\n",
            "Farmers' Markets:\n",
            "['FMRKT13', 'FMRKT18', 'PCH_FMRKT_13_18', 'FMRKTPTH13', 'FMRKTPTH18', 'PCH_FMRKTPTH_13_18', 'FMRKT_SNAP18', 'PCT_FMRKT_SNAP18', 'FMRKT_WIC18', 'PCT_FMRKT_WIC18', 'FMRKT_WICCASH18', 'PCT_FMRKT_WICCASH18', 'FMRKT_SFMNP18', 'PCT_FMRKT_SFMNP18', 'FMRKT_CREDIT18', 'PCT_FMRKT_CREDIT18', 'FMRKT_FRVEG18', 'PCT_FMRKT_FRVEG18', 'FMRKT_ANMLPROD18', 'PCT_FMRKT_ANMLPROD18', 'FMRKT_BAKED18', 'PCT_FMRKT_BAKED18', 'FMRKT_OTHERFOOD18', 'PCT_FMRKT_OTHERFOOD18']\n",
            "\n",
            "Farms & Crop Acreage:\n",
            "['VEG_FARMS07', 'VEG_FARMS12', 'PCH_VEG_FARMS_07_12', 'VEG_ACRES07', 'VEG_ACRES12', 'PCH_VEG_ACRES_07_12', 'VEG_ACRESPTH07', 'VEG_ACRESPTH12', 'PCH_VEG_ACRESPTH_07_12', 'FRESHVEG_FARMS07', 'FRESHVEG_FARMS12', 'PCH_FRESHVEG_FARMS_07_12', 'FRESHVEG_ACRES07', 'FRESHVEG_ACRES12', 'PCH_FRESHVEG_ACRES_07_12', 'FRESHVEG_ACRESPTH07', 'FRESHVEG_ACRESPTH12', 'PCH_FRESHVEG_ACRESPTH_07_12', 'ORCHARD_FARMS07', 'ORCHARD_FARMS12', 'PCH_ORCHARD_FARMS_07_12', 'ORCHARD_ACRES07', 'ORCHARD_ACRES12', 'PCH_ORCHARD_ACRES_07_12', 'ORCHARD_ACRESPTH07', 'ORCHARD_ACRESPTH12', 'PCH_ORCHARD_ACRESPTH_07_12', 'BERRY_FARMS07', 'BERRY_FARMS12', 'PCH_BERRY_FARMS_07_12', 'BERRY_ACRES07', 'BERRY_ACRES12', 'PCH_BERRY_ACRES_07_12', 'BERRY_ACRESPTH07', 'BERRY_ACRESPTH12', 'PCH_BERRY_ACRESPTH_07_12', 'SLHOUSE07', 'SLHOUSE12', 'PCH_SLHOUSE_07_12', 'GHVEG_FARMS07', 'GHVEG_FARMS12', 'PCH_GHVEG_FARMS_07_12', 'GHVEG_SQFT07', 'GHVEG_SQFT12', 'PCH_GHVEG_SQFT_07_12', 'GHVEG_SQFTPTH07', 'GHVEG_SQFTPTH12', 'PCH_GHVEG_SQFTPTH_07_12']\n",
            "\n",
            "Other Local Food Outlets:\n",
            "['FOODHUB18', 'CSA07', 'CSA12', 'PCH_CSA_07_12', 'AGRITRSM_OPS07', 'AGRITRSM_OPS12', 'PCH_AGRITRSM_OPS_07_12', 'AGRITRSM_RCT07', 'AGRITRSM_RCT12', 'PCH_AGRITRSM_RCT_07_12', 'FARM_TO_SCHOOL13', 'FARM_TO_SCHOOL15']\n",
            "\n",
            "Health:\n",
            "['PCT_DIABETES_ADULTS08', 'PCT_DIABETES_ADULTS13', 'PCT_OBESE_ADULTS12', 'PCT_OBESE_ADULTS17']\n",
            "\n",
            "Physical Activity:\n",
            "['PCT_HSPA17', 'RECFAC11', 'RECFAC16', 'PCH_RECFAC_11_16', 'RECFACPTH11', 'RECFACPTH16', 'PCH_RECFACPTH_11_16']\n",
            "\n",
            "Race & Age:\n",
            "['PCT_NHWHITE10', 'PCT_NHBLACK10', 'PCT_HISP10', 'PCT_NHASIAN10', 'PCT_NHNA10', 'PCT_NHPI10', 'PCT_65OLDER10', 'PCT_18YOUNGER10']\n",
            "\n",
            "Income Level:\n",
            "['MEDHHINC15', 'POVRATE15', 'PERPOV10', 'CHILDPOVRATE15', 'PERCHLDPOV10']\n",
            "\n",
            "Other:\n",
            "['METRO13', 'POPLOSS10']\n",
            "\n"
          ]
        }
      ]
    },
    {
      "cell_type": "code",
      "source": [
        "# select columns relevant to the project\n",
        "col_feat = ['PCH_LACCESS_POP_10_15', 'PCT_LACCESS_POP15', 'PCH_LACCESS_LOWI_10_15', 'PCT_LACCESS_LOWI15', 'PCH_LACCESS_HHNV_10_15', 'PCT_LACCESS_HHNV15', 'PCT_LACCESS_SNAP15', 'PCT_LACCESS_CHILD15', 'PCH_LACCESS_CHILD_10_15', 'PCH_LACCESS_SENIORS_10_15', 'PCT_LACCESS_SENIORS15', 'PCT_LACCESS_WHITE15', 'PCT_LACCESS_BLACK15', 'PCT_LACCESS_HISP15', 'PCT_LACCESS_NHASIAN15', 'PCT_LACCESS_NHNA15', 'PCT_LACCESS_NHPI15', 'PCT_LACCESS_MULTIR15', 'PCH_GROCPTH_11_16', 'GROCPTH16', 'PCH_SUPERCPTH_11_16', 'SUPERCPTH16', 'CONVSPTH16', 'PCH_CONVS_11_16', 'SNAPSPTH17', 'PCH_SNAPSPTH_12_17', 'WICSPTH16', 'PCH_WICSPTH_11_16', 'PCH_FFRPTH_11_16','FFRPTH16', 'SNAP_PART_RATE16', 'SNAP_BBCE16', 'SNAP_CAP16', 'SNAP_OAPP16', 'PC_SNAPBEN17', 'PCH_SNAP_12_17', 'PCT_NSLP17', 'PCH_NSLP_12_17', 'PCT_FREE_LUNCH15', 'PCT_REDUCED_LUNCH15', 'PCT_SBP17', 'PCH_SBP_12_17', 'PCT_SFSP17', 'PCH_SFSP_12_17', 'PC_WIC_REDEMP16', 'PCH_PC_WIC_REDEMP_11_16', 'REDEMP_WICS11', 'REDEMP_WICS16', 'PCH_REDEMP_WICS_11_16', 'PCT_WIC17', 'PCH_WIC_12_17', 'FDPIR15', 'PCH_FDPIR_12_15', 'FOOD_BANKS18', 'FOODINSEC_12_14', 'FOODINSEC_15_17', 'CH_FOODINSEC_14_17', 'VLFOODSEC_15_17', 'CH_VLFOODSEC_14_17', 'FMRKTPTH18', 'PCH_FMRKTPTH_13_18', 'FMRKTPTH18', 'PCH_FMRKTPTH_13_18', 'PCT_FMRKT_SNAP18', 'PCT_FMRKT_WIC18', 'FMRKT_WICCASH18', 'PCT_FMRKT_WICCASH18', 'FMRKT_SFMNP18', 'PCT_FMRKT_SFMNP18', 'PCT_DIABETES_ADULTS13', 'PCT_OBESE_ADULTS12', 'PCT_OBESE_ADULTS17', 'PCT_HSPA17', 'RECFACPTH16', 'PCH_RECFACPTH_11_16', 'PCT_NHWHITE10', 'PCT_NHBLACK10', 'PCT_HISP10', 'PCT_NHASIAN10', 'PCT_NHNA10', 'PCT_NHPI10', 'PCT_65OLDER10', 'PCT_18YOUNGER10', 'MEDHHINC15', 'POVRATE15', 'PERPOV10', 'CHILDPOVRATE15', 'PERCHLDPOV10']\n",
        "print(col_feat)\n",
        "print(len(col_feat))"
      ],
      "metadata": {
        "colab": {
          "base_uri": "https://localhost:8080/"
        },
        "id": "i_GoSXHF2u5s",
        "outputId": "5d18801d-5a4a-4cf4-89d2-e10c68eb9459"
      },
      "execution_count": 12,
      "outputs": [
        {
          "output_type": "stream",
          "name": "stdout",
          "text": [
            "['PCH_LACCESS_POP_10_15', 'PCT_LACCESS_POP15', 'PCH_LACCESS_LOWI_10_15', 'PCT_LACCESS_LOWI15', 'PCH_LACCESS_HHNV_10_15', 'PCT_LACCESS_HHNV15', 'PCT_LACCESS_SNAP15', 'PCT_LACCESS_CHILD15', 'PCH_LACCESS_CHILD_10_15', 'PCH_LACCESS_SENIORS_10_15', 'PCT_LACCESS_SENIORS15', 'PCT_LACCESS_WHITE15', 'PCT_LACCESS_BLACK15', 'PCT_LACCESS_HISP15', 'PCT_LACCESS_NHASIAN15', 'PCT_LACCESS_NHNA15', 'PCT_LACCESS_NHPI15', 'PCT_LACCESS_MULTIR15', 'PCH_GROCPTH_11_16', 'GROCPTH16', 'PCH_SUPERCPTH_11_16', 'SUPERCPTH16', 'CONVSPTH16', 'PCH_CONVS_11_16', 'SNAPSPTH17', 'PCH_SNAPSPTH_12_17', 'WICSPTH16', 'PCH_WICSPTH_11_16', 'PCH_FFRPTH_11_16', 'FFRPTH16', 'SNAP_PART_RATE16', 'SNAP_BBCE16', 'SNAP_CAP16', 'SNAP_OAPP16', 'PC_SNAPBEN17', 'PCH_SNAP_12_17', 'PCT_NSLP17', 'PCH_NSLP_12_17', 'PCT_FREE_LUNCH15', 'PCT_REDUCED_LUNCH15', 'PCT_SBP17', 'PCH_SBP_12_17', 'PCT_SFSP17', 'PCH_SFSP_12_17', 'PC_WIC_REDEMP16', 'PCH_PC_WIC_REDEMP_11_16', 'REDEMP_WICS11', 'REDEMP_WICS16', 'PCH_REDEMP_WICS_11_16', 'PCT_WIC17', 'PCH_WIC_12_17', 'FDPIR15', 'PCH_FDPIR_12_15', 'FOOD_BANKS18', 'FOODINSEC_12_14', 'FOODINSEC_15_17', 'CH_FOODINSEC_14_17', 'VLFOODSEC_15_17', 'CH_VLFOODSEC_14_17', 'FMRKTPTH18', 'PCH_FMRKTPTH_13_18', 'FMRKTPTH18', 'PCH_FMRKTPTH_13_18', 'PCT_FMRKT_SNAP18', 'PCT_FMRKT_WIC18', 'FMRKT_WICCASH18', 'PCT_FMRKT_WICCASH18', 'FMRKT_SFMNP18', 'PCT_FMRKT_SFMNP18', 'PCT_DIABETES_ADULTS13', 'PCT_OBESE_ADULTS12', 'PCT_OBESE_ADULTS17', 'PCT_HSPA17', 'RECFACPTH16', 'PCH_RECFACPTH_11_16', 'PCT_NHWHITE10', 'PCT_NHBLACK10', 'PCT_HISP10', 'PCT_NHASIAN10', 'PCT_NHNA10', 'PCT_NHPI10', 'PCT_65OLDER10', 'PCT_18YOUNGER10', 'MEDHHINC15', 'POVRATE15', 'PERPOV10', 'CHILDPOVRATE15', 'PERCHLDPOV10']\n",
            "88\n"
          ]
        }
      ]
    },
    {
      "cell_type": "markdown",
      "source": [
        "#### df_fda_county"
      ],
      "metadata": {
        "id": "vuQ8-dRdy10i"
      }
    },
    {
      "cell_type": "code",
      "source": [
        "# df_fda_county"
      ],
      "metadata": {
        "id": "MvhVCGwty6Hx"
      },
      "execution_count": 13,
      "outputs": []
    },
    {
      "cell_type": "code",
      "source": [
        "# # shape\n",
        "# print(f'Shape of df_fda_county: {df_fda_county.shape}')\n",
        "\n",
        "# print('')\n",
        "\n",
        "# # columns\n",
        "# print(f'Columns in df_fda_county: {df_fda_county.columns}')"
      ],
      "metadata": {
        "id": "h1oeBueTzOU9"
      },
      "execution_count": 14,
      "outputs": []
    },
    {
      "cell_type": "code",
      "source": [
        "# # display\n",
        "# df_fda_county.head()"
      ],
      "metadata": {
        "id": "XD0TUnzXzOU-"
      },
      "execution_count": 15,
      "outputs": []
    },
    {
      "cell_type": "code",
      "source": [
        "# # pivot\n",
        "# df_fda_county = df_fda_county.pivot_table(values='Value', index=['FIPS', 'State', 'County'], columns='Variable_Code')\n",
        "# df_fda_county.reset_index(inplace=True)"
      ],
      "metadata": {
        "id": "iF1XMziUzOU-"
      },
      "execution_count": 102,
      "outputs": []
    },
    {
      "cell_type": "code",
      "source": [
        "# # display\n",
        "# df_fda_county.head()"
      ],
      "metadata": {
        "id": "M7rKVh7zzOU-"
      },
      "execution_count": 17,
      "outputs": []
    },
    {
      "cell_type": "code",
      "source": [
        "# # save columns\n",
        "# col_county = df_fda_county.columns"
      ],
      "metadata": {
        "id": "ySeFR8lYrNMT"
      },
      "execution_count": 18,
      "outputs": []
    },
    {
      "cell_type": "code",
      "source": [
        "# # shape\n",
        "# print(f'Shape of df_fda_county: {df_fda_county.shape}')\n",
        "\n",
        "# print('')\n",
        "\n",
        "# # columns\n",
        "# print(f'Columns in df_fda_county: {df_fda_county.columns}')"
      ],
      "metadata": {
        "id": "vYYmZlo8zOU_"
      },
      "execution_count": 19,
      "outputs": []
    },
    {
      "cell_type": "code",
      "source": [
        "# # info\n",
        "# df_fda_county.info()"
      ],
      "metadata": {
        "id": "9Dlx72hOzOU_"
      },
      "execution_count": 20,
      "outputs": []
    },
    {
      "cell_type": "code",
      "source": [
        "# # describe\n",
        "# df_fda_county.describe()"
      ],
      "metadata": {
        "id": "dzw1xPdXzOU_"
      },
      "execution_count": 21,
      "outputs": []
    },
    {
      "cell_type": "code",
      "source": [
        "# df_fda_county.isnull().sum()"
      ],
      "metadata": {
        "id": "FTlOemlKzOU_"
      },
      "execution_count": 22,
      "outputs": []
    },
    {
      "cell_type": "code",
      "source": [
        "# df_fda_county"
      ],
      "metadata": {
        "id": "ux4ZpJ9RzOU_"
      },
      "execution_count": 23,
      "outputs": []
    },
    {
      "cell_type": "code",
      "source": [
        "# col_fda_county = df_fda_county.columns.tolist()\n",
        "# for col in col_fda_county:\n",
        "#     print(col)"
      ],
      "metadata": {
        "id": "jKW_99MKzOVA"
      },
      "execution_count": 24,
      "outputs": []
    },
    {
      "cell_type": "markdown",
      "source": [
        "#### df_fda_raw\n",
        "The data in this CSV need to be wrangled before we can continue the analysis. The current format contains all the feature variables in one column and their values in another.\n",
        "\n",
        "Before we pivot the table though, we'll need to split the dataset, retaining only relevant data.\n",
        "\n",
        "This dataset needs:\n",
        "* Slicing\n",
        "* Pivoting"
      ],
      "metadata": {
        "id": "86JP09lct-ki"
      }
    },
    {
      "cell_type": "code",
      "source": [
        "# shape\n",
        "print(f'Shape of df_fda_full: {df_fda_raw.shape}')\n",
        "\n",
        "print('')\n",
        "\n",
        "# columns\n",
        "print(f'Columns in df_fda_full: {df_fda_raw.columns}')"
      ],
      "metadata": {
        "colab": {
          "base_uri": "https://localhost:8080/"
        },
        "id": "ILdO9scw4ok9",
        "outputId": "500fabb4-11b1-4f79-aafc-f1cf46178c12"
      },
      "execution_count": 25,
      "outputs": [
        {
          "output_type": "stream",
          "name": "stdout",
          "text": [
            "Shape of df_fda_full: (852810, 5)\n",
            "\n",
            "Columns in df_fda_full: Index(['FIPS', 'State', 'County', 'Variable_Code', 'Value'], dtype='object')\n"
          ]
        }
      ]
    },
    {
      "cell_type": "code",
      "source": [
        "# display head\n",
        "df_fda_raw.head()"
      ],
      "metadata": {
        "colab": {
          "base_uri": "https://localhost:8080/",
          "height": 206
        },
        "id": "H1f1IDM7p71R",
        "outputId": "0cf13f5a-169e-413f-a2c6-f086139956eb"
      },
      "execution_count": 26,
      "outputs": [
        {
          "output_type": "execute_result",
          "data": {
            "text/plain": [
              "   FIPS State   County          Variable_Code         Value\n",
              "0  1001    AL  Autauga          LACCESS_POP10  18428.439690\n",
              "1  1001    AL  Autauga          LACCESS_POP15  17496.693040\n",
              "2  1001    AL  Autauga  PCH_LACCESS_POP_10_15     -5.056026\n",
              "3  1001    AL  Autauga      PCT_LACCESS_POP10     33.769657\n",
              "4  1001    AL  Autauga      PCT_LACCESS_POP15     32.062255"
            ],
            "text/html": [
              "\n",
              "  <div id=\"df-7bb566f4-cdbf-4ca4-b0fb-b02323863b36\">\n",
              "    <div class=\"colab-df-container\">\n",
              "      <div>\n",
              "<style scoped>\n",
              "    .dataframe tbody tr th:only-of-type {\n",
              "        vertical-align: middle;\n",
              "    }\n",
              "\n",
              "    .dataframe tbody tr th {\n",
              "        vertical-align: top;\n",
              "    }\n",
              "\n",
              "    .dataframe thead th {\n",
              "        text-align: right;\n",
              "    }\n",
              "</style>\n",
              "<table border=\"1\" class=\"dataframe\">\n",
              "  <thead>\n",
              "    <tr style=\"text-align: right;\">\n",
              "      <th></th>\n",
              "      <th>FIPS</th>\n",
              "      <th>State</th>\n",
              "      <th>County</th>\n",
              "      <th>Variable_Code</th>\n",
              "      <th>Value</th>\n",
              "    </tr>\n",
              "  </thead>\n",
              "  <tbody>\n",
              "    <tr>\n",
              "      <th>0</th>\n",
              "      <td>1001</td>\n",
              "      <td>AL</td>\n",
              "      <td>Autauga</td>\n",
              "      <td>LACCESS_POP10</td>\n",
              "      <td>18428.439690</td>\n",
              "    </tr>\n",
              "    <tr>\n",
              "      <th>1</th>\n",
              "      <td>1001</td>\n",
              "      <td>AL</td>\n",
              "      <td>Autauga</td>\n",
              "      <td>LACCESS_POP15</td>\n",
              "      <td>17496.693040</td>\n",
              "    </tr>\n",
              "    <tr>\n",
              "      <th>2</th>\n",
              "      <td>1001</td>\n",
              "      <td>AL</td>\n",
              "      <td>Autauga</td>\n",
              "      <td>PCH_LACCESS_POP_10_15</td>\n",
              "      <td>-5.056026</td>\n",
              "    </tr>\n",
              "    <tr>\n",
              "      <th>3</th>\n",
              "      <td>1001</td>\n",
              "      <td>AL</td>\n",
              "      <td>Autauga</td>\n",
              "      <td>PCT_LACCESS_POP10</td>\n",
              "      <td>33.769657</td>\n",
              "    </tr>\n",
              "    <tr>\n",
              "      <th>4</th>\n",
              "      <td>1001</td>\n",
              "      <td>AL</td>\n",
              "      <td>Autauga</td>\n",
              "      <td>PCT_LACCESS_POP15</td>\n",
              "      <td>32.062255</td>\n",
              "    </tr>\n",
              "  </tbody>\n",
              "</table>\n",
              "</div>\n",
              "      <button class=\"colab-df-convert\" onclick=\"convertToInteractive('df-7bb566f4-cdbf-4ca4-b0fb-b02323863b36')\"\n",
              "              title=\"Convert this dataframe to an interactive table.\"\n",
              "              style=\"display:none;\">\n",
              "        \n",
              "  <svg xmlns=\"http://www.w3.org/2000/svg\" height=\"24px\"viewBox=\"0 0 24 24\"\n",
              "       width=\"24px\">\n",
              "    <path d=\"M0 0h24v24H0V0z\" fill=\"none\"/>\n",
              "    <path d=\"M18.56 5.44l.94 2.06.94-2.06 2.06-.94-2.06-.94-.94-2.06-.94 2.06-2.06.94zm-11 1L8.5 8.5l.94-2.06 2.06-.94-2.06-.94L8.5 2.5l-.94 2.06-2.06.94zm10 10l.94 2.06.94-2.06 2.06-.94-2.06-.94-.94-2.06-.94 2.06-2.06.94z\"/><path d=\"M17.41 7.96l-1.37-1.37c-.4-.4-.92-.59-1.43-.59-.52 0-1.04.2-1.43.59L10.3 9.45l-7.72 7.72c-.78.78-.78 2.05 0 2.83L4 21.41c.39.39.9.59 1.41.59.51 0 1.02-.2 1.41-.59l7.78-7.78 2.81-2.81c.8-.78.8-2.07 0-2.86zM5.41 20L4 18.59l7.72-7.72 1.47 1.35L5.41 20z\"/>\n",
              "  </svg>\n",
              "      </button>\n",
              "      \n",
              "  <style>\n",
              "    .colab-df-container {\n",
              "      display:flex;\n",
              "      flex-wrap:wrap;\n",
              "      gap: 12px;\n",
              "    }\n",
              "\n",
              "    .colab-df-convert {\n",
              "      background-color: #E8F0FE;\n",
              "      border: none;\n",
              "      border-radius: 50%;\n",
              "      cursor: pointer;\n",
              "      display: none;\n",
              "      fill: #1967D2;\n",
              "      height: 32px;\n",
              "      padding: 0 0 0 0;\n",
              "      width: 32px;\n",
              "    }\n",
              "\n",
              "    .colab-df-convert:hover {\n",
              "      background-color: #E2EBFA;\n",
              "      box-shadow: 0px 1px 2px rgba(60, 64, 67, 0.3), 0px 1px 3px 1px rgba(60, 64, 67, 0.15);\n",
              "      fill: #174EA6;\n",
              "    }\n",
              "\n",
              "    [theme=dark] .colab-df-convert {\n",
              "      background-color: #3B4455;\n",
              "      fill: #D2E3FC;\n",
              "    }\n",
              "\n",
              "    [theme=dark] .colab-df-convert:hover {\n",
              "      background-color: #434B5C;\n",
              "      box-shadow: 0px 1px 3px 1px rgba(0, 0, 0, 0.15);\n",
              "      filter: drop-shadow(0px 1px 2px rgba(0, 0, 0, 0.3));\n",
              "      fill: #FFFFFF;\n",
              "    }\n",
              "  </style>\n",
              "\n",
              "      <script>\n",
              "        const buttonEl =\n",
              "          document.querySelector('#df-7bb566f4-cdbf-4ca4-b0fb-b02323863b36 button.colab-df-convert');\n",
              "        buttonEl.style.display =\n",
              "          google.colab.kernel.accessAllowed ? 'block' : 'none';\n",
              "\n",
              "        async function convertToInteractive(key) {\n",
              "          const element = document.querySelector('#df-7bb566f4-cdbf-4ca4-b0fb-b02323863b36');\n",
              "          const dataTable =\n",
              "            await google.colab.kernel.invokeFunction('convertToInteractive',\n",
              "                                                     [key], {});\n",
              "          if (!dataTable) return;\n",
              "\n",
              "          const docLinkHtml = 'Like what you see? Visit the ' +\n",
              "            '<a target=\"_blank\" href=https://colab.research.google.com/notebooks/data_table.ipynb>data table notebook</a>'\n",
              "            + ' to learn more about interactive tables.';\n",
              "          element.innerHTML = '';\n",
              "          dataTable['output_type'] = 'display_data';\n",
              "          await google.colab.output.renderOutput(dataTable, element);\n",
              "          const docLink = document.createElement('div');\n",
              "          docLink.innerHTML = docLinkHtml;\n",
              "          element.appendChild(docLink);\n",
              "        }\n",
              "      </script>\n",
              "    </div>\n",
              "  </div>\n",
              "  "
            ]
          },
          "metadata": {},
          "execution_count": 26
        }
      ]
    },
    {
      "cell_type": "code",
      "source": [
        "# display tail\n",
        "df_fda_raw.tail()"
      ],
      "metadata": {
        "colab": {
          "base_uri": "https://localhost:8080/",
          "height": 206
        },
        "id": "zbLHxKZSho5k",
        "outputId": "560a55d2-df57-4c8c-896a-02563016a1bc"
      },
      "execution_count": 27,
      "outputs": [
        {
          "output_type": "execute_result",
          "data": {
            "text/plain": [
              "        FIPS State County          Variable_Code     Value\n",
              "852805    56    WY  Total  State_Population_2014  582548.0\n",
              "852806    56    WY  Total  State_Population_2015  585668.0\n",
              "852807    56    WY  Total  State_Population_2016  584290.0\n",
              "852808    56    WY  Total  State_Population_2017  578934.0\n",
              "852809    56    WY  Total  State_Population_2018  577737.0"
            ],
            "text/html": [
              "\n",
              "  <div id=\"df-41201af8-4aff-4869-a8b5-1098796b545b\">\n",
              "    <div class=\"colab-df-container\">\n",
              "      <div>\n",
              "<style scoped>\n",
              "    .dataframe tbody tr th:only-of-type {\n",
              "        vertical-align: middle;\n",
              "    }\n",
              "\n",
              "    .dataframe tbody tr th {\n",
              "        vertical-align: top;\n",
              "    }\n",
              "\n",
              "    .dataframe thead th {\n",
              "        text-align: right;\n",
              "    }\n",
              "</style>\n",
              "<table border=\"1\" class=\"dataframe\">\n",
              "  <thead>\n",
              "    <tr style=\"text-align: right;\">\n",
              "      <th></th>\n",
              "      <th>FIPS</th>\n",
              "      <th>State</th>\n",
              "      <th>County</th>\n",
              "      <th>Variable_Code</th>\n",
              "      <th>Value</th>\n",
              "    </tr>\n",
              "  </thead>\n",
              "  <tbody>\n",
              "    <tr>\n",
              "      <th>852805</th>\n",
              "      <td>56</td>\n",
              "      <td>WY</td>\n",
              "      <td>Total</td>\n",
              "      <td>State_Population_2014</td>\n",
              "      <td>582548.0</td>\n",
              "    </tr>\n",
              "    <tr>\n",
              "      <th>852806</th>\n",
              "      <td>56</td>\n",
              "      <td>WY</td>\n",
              "      <td>Total</td>\n",
              "      <td>State_Population_2015</td>\n",
              "      <td>585668.0</td>\n",
              "    </tr>\n",
              "    <tr>\n",
              "      <th>852807</th>\n",
              "      <td>56</td>\n",
              "      <td>WY</td>\n",
              "      <td>Total</td>\n",
              "      <td>State_Population_2016</td>\n",
              "      <td>584290.0</td>\n",
              "    </tr>\n",
              "    <tr>\n",
              "      <th>852808</th>\n",
              "      <td>56</td>\n",
              "      <td>WY</td>\n",
              "      <td>Total</td>\n",
              "      <td>State_Population_2017</td>\n",
              "      <td>578934.0</td>\n",
              "    </tr>\n",
              "    <tr>\n",
              "      <th>852809</th>\n",
              "      <td>56</td>\n",
              "      <td>WY</td>\n",
              "      <td>Total</td>\n",
              "      <td>State_Population_2018</td>\n",
              "      <td>577737.0</td>\n",
              "    </tr>\n",
              "  </tbody>\n",
              "</table>\n",
              "</div>\n",
              "      <button class=\"colab-df-convert\" onclick=\"convertToInteractive('df-41201af8-4aff-4869-a8b5-1098796b545b')\"\n",
              "              title=\"Convert this dataframe to an interactive table.\"\n",
              "              style=\"display:none;\">\n",
              "        \n",
              "  <svg xmlns=\"http://www.w3.org/2000/svg\" height=\"24px\"viewBox=\"0 0 24 24\"\n",
              "       width=\"24px\">\n",
              "    <path d=\"M0 0h24v24H0V0z\" fill=\"none\"/>\n",
              "    <path d=\"M18.56 5.44l.94 2.06.94-2.06 2.06-.94-2.06-.94-.94-2.06-.94 2.06-2.06.94zm-11 1L8.5 8.5l.94-2.06 2.06-.94-2.06-.94L8.5 2.5l-.94 2.06-2.06.94zm10 10l.94 2.06.94-2.06 2.06-.94-2.06-.94-.94-2.06-.94 2.06-2.06.94z\"/><path d=\"M17.41 7.96l-1.37-1.37c-.4-.4-.92-.59-1.43-.59-.52 0-1.04.2-1.43.59L10.3 9.45l-7.72 7.72c-.78.78-.78 2.05 0 2.83L4 21.41c.39.39.9.59 1.41.59.51 0 1.02-.2 1.41-.59l7.78-7.78 2.81-2.81c.8-.78.8-2.07 0-2.86zM5.41 20L4 18.59l7.72-7.72 1.47 1.35L5.41 20z\"/>\n",
              "  </svg>\n",
              "      </button>\n",
              "      \n",
              "  <style>\n",
              "    .colab-df-container {\n",
              "      display:flex;\n",
              "      flex-wrap:wrap;\n",
              "      gap: 12px;\n",
              "    }\n",
              "\n",
              "    .colab-df-convert {\n",
              "      background-color: #E8F0FE;\n",
              "      border: none;\n",
              "      border-radius: 50%;\n",
              "      cursor: pointer;\n",
              "      display: none;\n",
              "      fill: #1967D2;\n",
              "      height: 32px;\n",
              "      padding: 0 0 0 0;\n",
              "      width: 32px;\n",
              "    }\n",
              "\n",
              "    .colab-df-convert:hover {\n",
              "      background-color: #E2EBFA;\n",
              "      box-shadow: 0px 1px 2px rgba(60, 64, 67, 0.3), 0px 1px 3px 1px rgba(60, 64, 67, 0.15);\n",
              "      fill: #174EA6;\n",
              "    }\n",
              "\n",
              "    [theme=dark] .colab-df-convert {\n",
              "      background-color: #3B4455;\n",
              "      fill: #D2E3FC;\n",
              "    }\n",
              "\n",
              "    [theme=dark] .colab-df-convert:hover {\n",
              "      background-color: #434B5C;\n",
              "      box-shadow: 0px 1px 3px 1px rgba(0, 0, 0, 0.15);\n",
              "      filter: drop-shadow(0px 1px 2px rgba(0, 0, 0, 0.3));\n",
              "      fill: #FFFFFF;\n",
              "    }\n",
              "  </style>\n",
              "\n",
              "      <script>\n",
              "        const buttonEl =\n",
              "          document.querySelector('#df-41201af8-4aff-4869-a8b5-1098796b545b button.colab-df-convert');\n",
              "        buttonEl.style.display =\n",
              "          google.colab.kernel.accessAllowed ? 'block' : 'none';\n",
              "\n",
              "        async function convertToInteractive(key) {\n",
              "          const element = document.querySelector('#df-41201af8-4aff-4869-a8b5-1098796b545b');\n",
              "          const dataTable =\n",
              "            await google.colab.kernel.invokeFunction('convertToInteractive',\n",
              "                                                     [key], {});\n",
              "          if (!dataTable) return;\n",
              "\n",
              "          const docLinkHtml = 'Like what you see? Visit the ' +\n",
              "            '<a target=\"_blank\" href=https://colab.research.google.com/notebooks/data_table.ipynb>data table notebook</a>'\n",
              "            + ' to learn more about interactive tables.';\n",
              "          element.innerHTML = '';\n",
              "          dataTable['output_type'] = 'display_data';\n",
              "          await google.colab.output.renderOutput(dataTable, element);\n",
              "          const docLink = document.createElement('div');\n",
              "          docLink.innerHTML = docLinkHtml;\n",
              "          element.appendChild(docLink);\n",
              "        }\n",
              "      </script>\n",
              "    </div>\n",
              "  </div>\n",
              "  "
            ]
          },
          "metadata": {},
          "execution_count": 27
        }
      ]
    },
    {
      "cell_type": "code",
      "source": [
        "# display slice point in range of 5\n",
        "print(df_fda_raw.iloc[822387:822391,:])\n",
        "print(\"\\nSlice below row: 822389\")"
      ],
      "metadata": {
        "colab": {
          "base_uri": "https://localhost:8080/"
        },
        "id": "N0p1JATGh2qq",
        "outputId": "8389b600-f151-4ab2-ccca-c3a8ef66603f"
      },
      "execution_count": 28,
      "outputs": [
        {
          "output_type": "stream",
          "name": "stdout",
          "text": [
            "         FIPS State          County           Variable_Code    Value\n",
            "822387  56045    WY          Weston            PERCHLDPOV10      0.0\n",
            "822388  56045    WY          Weston                 METRO13      0.0\n",
            "822389  56045    WY          Weston               POPLOSS10      0.0\n",
            "822390   1001    AL  Autauga County  2010_Census_Population  54571.0\n",
            "\n",
            "Slice below row: 822389\n"
          ]
        }
      ]
    },
    {
      "cell_type": "code",
      "source": [
        "# slicing\n",
        "df_fda_full = df_fda_raw.loc[:822389,:]\n",
        "# display tail\n",
        "print(df_fda_full.tail())\n",
        "# shape\n",
        "print(f'\\nShape of df_fda_full: {df_fda_full.shape}')\n",
        "# columns\n",
        "print(f'\\nColumns in df_fda_full: {df_fda_full.columns}')"
      ],
      "metadata": {
        "colab": {
          "base_uri": "https://localhost:8080/"
        },
        "id": "zTYzmloZazY4",
        "outputId": "e56abb6c-ac3e-4f14-9a2e-8b640e2f4889"
      },
      "execution_count": 29,
      "outputs": [
        {
          "output_type": "stream",
          "name": "stdout",
          "text": [
            "         FIPS State  County   Variable_Code  Value\n",
            "822385  56045    WY  Weston        PERPOV10    0.0\n",
            "822386  56045    WY  Weston  CHILDPOVRATE15   13.1\n",
            "822387  56045    WY  Weston    PERCHLDPOV10    0.0\n",
            "822388  56045    WY  Weston         METRO13    0.0\n",
            "822389  56045    WY  Weston       POPLOSS10    0.0\n",
            "\n",
            "Shape of df_fda_full: (822390, 5)\n",
            "\n",
            "Columns in df_fda_full: Index(['FIPS', 'State', 'County', 'Variable_Code', 'Value'], dtype='object')\n"
          ]
        }
      ]
    },
    {
      "cell_type": "code",
      "source": [
        "# pivot\n",
        "df_fda_full = df_fda_full.pivot_table(values='Value', index=['FIPS', 'State', 'County'], columns='Variable_Code')\n",
        "df_fda_full.reset_index(inplace=True)"
      ],
      "metadata": {
        "id": "oCenghEsp9VC"
      },
      "execution_count": 30,
      "outputs": []
    },
    {
      "cell_type": "code",
      "source": [
        "# display\n",
        "df_fda_full"
      ],
      "metadata": {
        "colab": {
          "base_uri": "https://localhost:8080/",
          "height": 488
        },
        "id": "XppzHorIp9eV",
        "outputId": "f3f1502a-2ad9-4747-9784-64a30dfd9428"
      },
      "execution_count": 31,
      "outputs": [
        {
          "output_type": "execute_result",
          "data": {
            "text/plain": [
              "Variable_Code   FIPS State      County  AGRITRSM_OPS07  AGRITRSM_OPS12  \\\n",
              "0               1001    AL     Autauga             7.0            10.0   \n",
              "1               1003    AL     Baldwin            18.0            16.0   \n",
              "2               1005    AL     Barbour            27.0            32.0   \n",
              "3               1007    AL        Bibb             5.0             6.0   \n",
              "4               1009    AL      Blount            10.0             8.0   \n",
              "...              ...   ...         ...             ...             ...   \n",
              "3138           56037    WY  Sweetwater             1.0             2.0   \n",
              "3139           56039    WY       Teton             5.0            12.0   \n",
              "3140           56041    WY       Uinta             5.0             9.0   \n",
              "3141           56043    WY    Washakie             8.0             6.0   \n",
              "3142           56045    WY      Weston            14.0             9.0   \n",
              "\n",
              "Variable_Code  AGRITRSM_RCT07  AGRITRSM_RCT12  BERRY_ACRES07  BERRY_ACRES12  \\\n",
              "0                    228000.0        146000.0            NaN            5.0   \n",
              "1                    124000.0        204000.0           79.0           93.0   \n",
              "2                    163000.0        304000.0            NaN           42.0   \n",
              "3                         NaN         21000.0            6.0            NaN   \n",
              "4                    293000.0         30000.0           28.0           38.0   \n",
              "...                       ...             ...            ...            ...   \n",
              "3138                      NaN             NaN            0.0            0.0   \n",
              "3139                1614000.0             NaN            NaN            NaN   \n",
              "3140                 105000.0             NaN            0.0            0.0   \n",
              "3141                  70000.0         62000.0            0.0            NaN   \n",
              "3142                 147000.0         71000.0            0.0            0.0   \n",
              "\n",
              "Variable_Code  BERRY_ACRESPTH07  ...  VEG_ACRESPTH07  VEG_ACRESPTH12  \\\n",
              "0                           NaN  ...       18.089877       17.181695   \n",
              "1                      0.458226  ...       13.224751       11.975041   \n",
              "2                           NaN  ...        1.152862        1.178247   \n",
              "3                      0.267404  ...        2.896871        2.870771   \n",
              "4                      0.497866  ...       10.401849       10.125312   \n",
              "...                         ...  ...             ...             ...   \n",
              "3138                   0.000000  ...        0.000000        0.000000   \n",
              "3139                        NaN  ...        0.000000        0.000000   \n",
              "3140                   0.000000  ...        0.000000        0.000000   \n",
              "3141                   0.000000  ...        0.000000        0.000000   \n",
              "3142                   0.000000  ...        0.000000        0.000000   \n",
              "\n",
              "Variable_Code  VEG_FARMS07  VEG_FARMS12  VLFOODSEC_12_14  VLFOODSEC_15_17  \\\n",
              "0                     34.0         45.0              7.2              7.1   \n",
              "1                     51.0         50.0              7.2              7.1   \n",
              "2                     11.0          7.0              7.2              7.1   \n",
              "3                     10.0         11.0              7.2              7.1   \n",
              "4                     67.0         64.0              7.2              7.1   \n",
              "...                    ...          ...              ...              ...   \n",
              "3138                   0.0          0.0              5.3              5.1   \n",
              "3139                   0.0          0.0              5.3              5.1   \n",
              "3140                   0.0          0.0              5.3              5.1   \n",
              "3141                   0.0          2.0              5.3              5.1   \n",
              "3142                   0.0          0.0              5.3              5.1   \n",
              "\n",
              "Variable_Code  WICS11  WICS16  WICSPTH11  WICSPTH16  \n",
              "0                 5.0     5.0   0.090567   0.090511  \n",
              "1                26.0    28.0   0.139380   0.134802  \n",
              "2                 7.0     6.0   0.255942   0.232387  \n",
              "3                 6.0     5.0   0.263771   0.221474  \n",
              "4                 8.0     8.0   0.139000   0.139089  \n",
              "...               ...     ...        ...        ...  \n",
              "3138              4.0     4.0   0.090948   0.090344  \n",
              "3139              3.0     3.0   0.140095   0.129528  \n",
              "3140              3.0     3.0   0.143589   0.144991  \n",
              "3141              2.0     2.0   0.236742   0.244858  \n",
              "3142              3.0     3.0   0.420050   0.415916  \n",
              "\n",
              "[3143 rows x 284 columns]"
            ],
            "text/html": [
              "\n",
              "  <div id=\"df-084d498b-3bf6-4c14-9f3b-51db2c4e3ef8\">\n",
              "    <div class=\"colab-df-container\">\n",
              "      <div>\n",
              "<style scoped>\n",
              "    .dataframe tbody tr th:only-of-type {\n",
              "        vertical-align: middle;\n",
              "    }\n",
              "\n",
              "    .dataframe tbody tr th {\n",
              "        vertical-align: top;\n",
              "    }\n",
              "\n",
              "    .dataframe thead th {\n",
              "        text-align: right;\n",
              "    }\n",
              "</style>\n",
              "<table border=\"1\" class=\"dataframe\">\n",
              "  <thead>\n",
              "    <tr style=\"text-align: right;\">\n",
              "      <th>Variable_Code</th>\n",
              "      <th>FIPS</th>\n",
              "      <th>State</th>\n",
              "      <th>County</th>\n",
              "      <th>AGRITRSM_OPS07</th>\n",
              "      <th>AGRITRSM_OPS12</th>\n",
              "      <th>AGRITRSM_RCT07</th>\n",
              "      <th>AGRITRSM_RCT12</th>\n",
              "      <th>BERRY_ACRES07</th>\n",
              "      <th>BERRY_ACRES12</th>\n",
              "      <th>BERRY_ACRESPTH07</th>\n",
              "      <th>...</th>\n",
              "      <th>VEG_ACRESPTH07</th>\n",
              "      <th>VEG_ACRESPTH12</th>\n",
              "      <th>VEG_FARMS07</th>\n",
              "      <th>VEG_FARMS12</th>\n",
              "      <th>VLFOODSEC_12_14</th>\n",
              "      <th>VLFOODSEC_15_17</th>\n",
              "      <th>WICS11</th>\n",
              "      <th>WICS16</th>\n",
              "      <th>WICSPTH11</th>\n",
              "      <th>WICSPTH16</th>\n",
              "    </tr>\n",
              "  </thead>\n",
              "  <tbody>\n",
              "    <tr>\n",
              "      <th>0</th>\n",
              "      <td>1001</td>\n",
              "      <td>AL</td>\n",
              "      <td>Autauga</td>\n",
              "      <td>7.0</td>\n",
              "      <td>10.0</td>\n",
              "      <td>228000.0</td>\n",
              "      <td>146000.0</td>\n",
              "      <td>NaN</td>\n",
              "      <td>5.0</td>\n",
              "      <td>NaN</td>\n",
              "      <td>...</td>\n",
              "      <td>18.089877</td>\n",
              "      <td>17.181695</td>\n",
              "      <td>34.0</td>\n",
              "      <td>45.0</td>\n",
              "      <td>7.2</td>\n",
              "      <td>7.1</td>\n",
              "      <td>5.0</td>\n",
              "      <td>5.0</td>\n",
              "      <td>0.090567</td>\n",
              "      <td>0.090511</td>\n",
              "    </tr>\n",
              "    <tr>\n",
              "      <th>1</th>\n",
              "      <td>1003</td>\n",
              "      <td>AL</td>\n",
              "      <td>Baldwin</td>\n",
              "      <td>18.0</td>\n",
              "      <td>16.0</td>\n",
              "      <td>124000.0</td>\n",
              "      <td>204000.0</td>\n",
              "      <td>79.0</td>\n",
              "      <td>93.0</td>\n",
              "      <td>0.458226</td>\n",
              "      <td>...</td>\n",
              "      <td>13.224751</td>\n",
              "      <td>11.975041</td>\n",
              "      <td>51.0</td>\n",
              "      <td>50.0</td>\n",
              "      <td>7.2</td>\n",
              "      <td>7.1</td>\n",
              "      <td>26.0</td>\n",
              "      <td>28.0</td>\n",
              "      <td>0.139380</td>\n",
              "      <td>0.134802</td>\n",
              "    </tr>\n",
              "    <tr>\n",
              "      <th>2</th>\n",
              "      <td>1005</td>\n",
              "      <td>AL</td>\n",
              "      <td>Barbour</td>\n",
              "      <td>27.0</td>\n",
              "      <td>32.0</td>\n",
              "      <td>163000.0</td>\n",
              "      <td>304000.0</td>\n",
              "      <td>NaN</td>\n",
              "      <td>42.0</td>\n",
              "      <td>NaN</td>\n",
              "      <td>...</td>\n",
              "      <td>1.152862</td>\n",
              "      <td>1.178247</td>\n",
              "      <td>11.0</td>\n",
              "      <td>7.0</td>\n",
              "      <td>7.2</td>\n",
              "      <td>7.1</td>\n",
              "      <td>7.0</td>\n",
              "      <td>6.0</td>\n",
              "      <td>0.255942</td>\n",
              "      <td>0.232387</td>\n",
              "    </tr>\n",
              "    <tr>\n",
              "      <th>3</th>\n",
              "      <td>1007</td>\n",
              "      <td>AL</td>\n",
              "      <td>Bibb</td>\n",
              "      <td>5.0</td>\n",
              "      <td>6.0</td>\n",
              "      <td>NaN</td>\n",
              "      <td>21000.0</td>\n",
              "      <td>6.0</td>\n",
              "      <td>NaN</td>\n",
              "      <td>0.267404</td>\n",
              "      <td>...</td>\n",
              "      <td>2.896871</td>\n",
              "      <td>2.870771</td>\n",
              "      <td>10.0</td>\n",
              "      <td>11.0</td>\n",
              "      <td>7.2</td>\n",
              "      <td>7.1</td>\n",
              "      <td>6.0</td>\n",
              "      <td>5.0</td>\n",
              "      <td>0.263771</td>\n",
              "      <td>0.221474</td>\n",
              "    </tr>\n",
              "    <tr>\n",
              "      <th>4</th>\n",
              "      <td>1009</td>\n",
              "      <td>AL</td>\n",
              "      <td>Blount</td>\n",
              "      <td>10.0</td>\n",
              "      <td>8.0</td>\n",
              "      <td>293000.0</td>\n",
              "      <td>30000.0</td>\n",
              "      <td>28.0</td>\n",
              "      <td>38.0</td>\n",
              "      <td>0.497866</td>\n",
              "      <td>...</td>\n",
              "      <td>10.401849</td>\n",
              "      <td>10.125312</td>\n",
              "      <td>67.0</td>\n",
              "      <td>64.0</td>\n",
              "      <td>7.2</td>\n",
              "      <td>7.1</td>\n",
              "      <td>8.0</td>\n",
              "      <td>8.0</td>\n",
              "      <td>0.139000</td>\n",
              "      <td>0.139089</td>\n",
              "    </tr>\n",
              "    <tr>\n",
              "      <th>...</th>\n",
              "      <td>...</td>\n",
              "      <td>...</td>\n",
              "      <td>...</td>\n",
              "      <td>...</td>\n",
              "      <td>...</td>\n",
              "      <td>...</td>\n",
              "      <td>...</td>\n",
              "      <td>...</td>\n",
              "      <td>...</td>\n",
              "      <td>...</td>\n",
              "      <td>...</td>\n",
              "      <td>...</td>\n",
              "      <td>...</td>\n",
              "      <td>...</td>\n",
              "      <td>...</td>\n",
              "      <td>...</td>\n",
              "      <td>...</td>\n",
              "      <td>...</td>\n",
              "      <td>...</td>\n",
              "      <td>...</td>\n",
              "      <td>...</td>\n",
              "    </tr>\n",
              "    <tr>\n",
              "      <th>3138</th>\n",
              "      <td>56037</td>\n",
              "      <td>WY</td>\n",
              "      <td>Sweetwater</td>\n",
              "      <td>1.0</td>\n",
              "      <td>2.0</td>\n",
              "      <td>NaN</td>\n",
              "      <td>NaN</td>\n",
              "      <td>0.0</td>\n",
              "      <td>0.0</td>\n",
              "      <td>0.000000</td>\n",
              "      <td>...</td>\n",
              "      <td>0.000000</td>\n",
              "      <td>0.000000</td>\n",
              "      <td>0.0</td>\n",
              "      <td>0.0</td>\n",
              "      <td>5.3</td>\n",
              "      <td>5.1</td>\n",
              "      <td>4.0</td>\n",
              "      <td>4.0</td>\n",
              "      <td>0.090948</td>\n",
              "      <td>0.090344</td>\n",
              "    </tr>\n",
              "    <tr>\n",
              "      <th>3139</th>\n",
              "      <td>56039</td>\n",
              "      <td>WY</td>\n",
              "      <td>Teton</td>\n",
              "      <td>5.0</td>\n",
              "      <td>12.0</td>\n",
              "      <td>1614000.0</td>\n",
              "      <td>NaN</td>\n",
              "      <td>NaN</td>\n",
              "      <td>NaN</td>\n",
              "      <td>NaN</td>\n",
              "      <td>...</td>\n",
              "      <td>0.000000</td>\n",
              "      <td>0.000000</td>\n",
              "      <td>0.0</td>\n",
              "      <td>0.0</td>\n",
              "      <td>5.3</td>\n",
              "      <td>5.1</td>\n",
              "      <td>3.0</td>\n",
              "      <td>3.0</td>\n",
              "      <td>0.140095</td>\n",
              "      <td>0.129528</td>\n",
              "    </tr>\n",
              "    <tr>\n",
              "      <th>3140</th>\n",
              "      <td>56041</td>\n",
              "      <td>WY</td>\n",
              "      <td>Uinta</td>\n",
              "      <td>5.0</td>\n",
              "      <td>9.0</td>\n",
              "      <td>105000.0</td>\n",
              "      <td>NaN</td>\n",
              "      <td>0.0</td>\n",
              "      <td>0.0</td>\n",
              "      <td>0.000000</td>\n",
              "      <td>...</td>\n",
              "      <td>0.000000</td>\n",
              "      <td>0.000000</td>\n",
              "      <td>0.0</td>\n",
              "      <td>0.0</td>\n",
              "      <td>5.3</td>\n",
              "      <td>5.1</td>\n",
              "      <td>3.0</td>\n",
              "      <td>3.0</td>\n",
              "      <td>0.143589</td>\n",
              "      <td>0.144991</td>\n",
              "    </tr>\n",
              "    <tr>\n",
              "      <th>3141</th>\n",
              "      <td>56043</td>\n",
              "      <td>WY</td>\n",
              "      <td>Washakie</td>\n",
              "      <td>8.0</td>\n",
              "      <td>6.0</td>\n",
              "      <td>70000.0</td>\n",
              "      <td>62000.0</td>\n",
              "      <td>0.0</td>\n",
              "      <td>NaN</td>\n",
              "      <td>0.000000</td>\n",
              "      <td>...</td>\n",
              "      <td>0.000000</td>\n",
              "      <td>0.000000</td>\n",
              "      <td>0.0</td>\n",
              "      <td>2.0</td>\n",
              "      <td>5.3</td>\n",
              "      <td>5.1</td>\n",
              "      <td>2.0</td>\n",
              "      <td>2.0</td>\n",
              "      <td>0.236742</td>\n",
              "      <td>0.244858</td>\n",
              "    </tr>\n",
              "    <tr>\n",
              "      <th>3142</th>\n",
              "      <td>56045</td>\n",
              "      <td>WY</td>\n",
              "      <td>Weston</td>\n",
              "      <td>14.0</td>\n",
              "      <td>9.0</td>\n",
              "      <td>147000.0</td>\n",
              "      <td>71000.0</td>\n",
              "      <td>0.0</td>\n",
              "      <td>0.0</td>\n",
              "      <td>0.000000</td>\n",
              "      <td>...</td>\n",
              "      <td>0.000000</td>\n",
              "      <td>0.000000</td>\n",
              "      <td>0.0</td>\n",
              "      <td>0.0</td>\n",
              "      <td>5.3</td>\n",
              "      <td>5.1</td>\n",
              "      <td>3.0</td>\n",
              "      <td>3.0</td>\n",
              "      <td>0.420050</td>\n",
              "      <td>0.415916</td>\n",
              "    </tr>\n",
              "  </tbody>\n",
              "</table>\n",
              "<p>3143 rows × 284 columns</p>\n",
              "</div>\n",
              "      <button class=\"colab-df-convert\" onclick=\"convertToInteractive('df-084d498b-3bf6-4c14-9f3b-51db2c4e3ef8')\"\n",
              "              title=\"Convert this dataframe to an interactive table.\"\n",
              "              style=\"display:none;\">\n",
              "        \n",
              "  <svg xmlns=\"http://www.w3.org/2000/svg\" height=\"24px\"viewBox=\"0 0 24 24\"\n",
              "       width=\"24px\">\n",
              "    <path d=\"M0 0h24v24H0V0z\" fill=\"none\"/>\n",
              "    <path d=\"M18.56 5.44l.94 2.06.94-2.06 2.06-.94-2.06-.94-.94-2.06-.94 2.06-2.06.94zm-11 1L8.5 8.5l.94-2.06 2.06-.94-2.06-.94L8.5 2.5l-.94 2.06-2.06.94zm10 10l.94 2.06.94-2.06 2.06-.94-2.06-.94-.94-2.06-.94 2.06-2.06.94z\"/><path d=\"M17.41 7.96l-1.37-1.37c-.4-.4-.92-.59-1.43-.59-.52 0-1.04.2-1.43.59L10.3 9.45l-7.72 7.72c-.78.78-.78 2.05 0 2.83L4 21.41c.39.39.9.59 1.41.59.51 0 1.02-.2 1.41-.59l7.78-7.78 2.81-2.81c.8-.78.8-2.07 0-2.86zM5.41 20L4 18.59l7.72-7.72 1.47 1.35L5.41 20z\"/>\n",
              "  </svg>\n",
              "      </button>\n",
              "      \n",
              "  <style>\n",
              "    .colab-df-container {\n",
              "      display:flex;\n",
              "      flex-wrap:wrap;\n",
              "      gap: 12px;\n",
              "    }\n",
              "\n",
              "    .colab-df-convert {\n",
              "      background-color: #E8F0FE;\n",
              "      border: none;\n",
              "      border-radius: 50%;\n",
              "      cursor: pointer;\n",
              "      display: none;\n",
              "      fill: #1967D2;\n",
              "      height: 32px;\n",
              "      padding: 0 0 0 0;\n",
              "      width: 32px;\n",
              "    }\n",
              "\n",
              "    .colab-df-convert:hover {\n",
              "      background-color: #E2EBFA;\n",
              "      box-shadow: 0px 1px 2px rgba(60, 64, 67, 0.3), 0px 1px 3px 1px rgba(60, 64, 67, 0.15);\n",
              "      fill: #174EA6;\n",
              "    }\n",
              "\n",
              "    [theme=dark] .colab-df-convert {\n",
              "      background-color: #3B4455;\n",
              "      fill: #D2E3FC;\n",
              "    }\n",
              "\n",
              "    [theme=dark] .colab-df-convert:hover {\n",
              "      background-color: #434B5C;\n",
              "      box-shadow: 0px 1px 3px 1px rgba(0, 0, 0, 0.15);\n",
              "      filter: drop-shadow(0px 1px 2px rgba(0, 0, 0, 0.3));\n",
              "      fill: #FFFFFF;\n",
              "    }\n",
              "  </style>\n",
              "\n",
              "      <script>\n",
              "        const buttonEl =\n",
              "          document.querySelector('#df-084d498b-3bf6-4c14-9f3b-51db2c4e3ef8 button.colab-df-convert');\n",
              "        buttonEl.style.display =\n",
              "          google.colab.kernel.accessAllowed ? 'block' : 'none';\n",
              "\n",
              "        async function convertToInteractive(key) {\n",
              "          const element = document.querySelector('#df-084d498b-3bf6-4c14-9f3b-51db2c4e3ef8');\n",
              "          const dataTable =\n",
              "            await google.colab.kernel.invokeFunction('convertToInteractive',\n",
              "                                                     [key], {});\n",
              "          if (!dataTable) return;\n",
              "\n",
              "          const docLinkHtml = 'Like what you see? Visit the ' +\n",
              "            '<a target=\"_blank\" href=https://colab.research.google.com/notebooks/data_table.ipynb>data table notebook</a>'\n",
              "            + ' to learn more about interactive tables.';\n",
              "          element.innerHTML = '';\n",
              "          dataTable['output_type'] = 'display_data';\n",
              "          await google.colab.output.renderOutput(dataTable, element);\n",
              "          const docLink = document.createElement('div');\n",
              "          docLink.innerHTML = docLinkHtml;\n",
              "          element.appendChild(docLink);\n",
              "        }\n",
              "      </script>\n",
              "    </div>\n",
              "  </div>\n",
              "  "
            ]
          },
          "metadata": {},
          "execution_count": 31
        }
      ]
    },
    {
      "cell_type": "code",
      "source": [
        "# info\n",
        "df_fda_full.info()"
      ],
      "metadata": {
        "colab": {
          "base_uri": "https://localhost:8080/"
        },
        "id": "oOvBSsf8tJW3",
        "outputId": "4cec8fd2-49f7-4f24-93e4-2bd91b0d5e92"
      },
      "execution_count": 32,
      "outputs": [
        {
          "output_type": "stream",
          "name": "stdout",
          "text": [
            "<class 'pandas.core.frame.DataFrame'>\n",
            "RangeIndex: 3143 entries, 0 to 3142\n",
            "Columns: 284 entries, FIPS to WICSPTH16\n",
            "dtypes: float64(281), int64(1), object(2)\n",
            "memory usage: 6.8+ MB\n"
          ]
        }
      ]
    },
    {
      "cell_type": "code",
      "source": [
        "# describe\n",
        "df_fda_full.describe()"
      ],
      "metadata": {
        "colab": {
          "base_uri": "https://localhost:8080/",
          "height": 393
        },
        "id": "ktgeAV-ptI_i",
        "outputId": "33eb0309-6f5e-47fe-f3ea-a6cf36b47902"
      },
      "execution_count": 33,
      "outputs": [
        {
          "output_type": "execute_result",
          "data": {
            "text/plain": [
              "Variable_Code          FIPS  AGRITRSM_OPS07  AGRITRSM_OPS12  AGRITRSM_RCT07  \\\n",
              "count           3143.000000     3080.000000     3080.000000    1.974000e+03   \n",
              "mean           30390.411709        7.579545       10.764935    2.108313e+05   \n",
              "std            15164.717720       10.407053       15.438169    5.423634e+05   \n",
              "min             1001.000000        0.000000        0.000000    0.000000e+00   \n",
              "25%            18178.000000        2.000000        3.000000    7.000000e+03   \n",
              "50%            29177.000000        5.000000        6.000000    4.200000e+04   \n",
              "75%            45082.000000        9.000000       13.000000    1.687500e+05   \n",
              "max            56045.000000      161.000000      236.000000    8.464000e+06   \n",
              "\n",
              "Variable_Code  AGRITRSM_RCT12  BERRY_ACRES07  BERRY_ACRES12  BERRY_ACRESPTH07  \\\n",
              "count            2.119000e+03    2305.000000    2334.000000       2305.000000   \n",
              "mean             2.766437e+05     108.856833     120.325621          1.728031   \n",
              "std              7.750182e+05     924.730823     975.864547         21.152581   \n",
              "min              0.000000e+00       0.000000       0.000000          0.000000   \n",
              "25%              1.300000e+04       0.000000       0.000000          0.000000   \n",
              "50%              6.500000e+04       5.000000       6.000000          0.101541   \n",
              "75%              2.330000e+05      22.000000      24.000000          0.400727   \n",
              "max              2.372300e+07   28904.000000   29218.000000        864.767832   \n",
              "\n",
              "Variable_Code  BERRY_ACRESPTH12  BERRY_FARMS07  ...  VEG_ACRESPTH07  \\\n",
              "count               2333.000000    3080.000000  ...     2532.000000   \n",
              "mean                   1.972856       8.122078  ...       42.722869   \n",
              "std                   22.985520      19.563341  ...      212.987831   \n",
              "min                    0.000000       0.000000  ...        0.000000   \n",
              "25%                    0.000000       0.000000  ...        0.497257   \n",
              "50%                    0.132127       3.000000  ...        2.004499   \n",
              "75%                    0.466003       8.000000  ...        7.850431   \n",
              "max                  898.490114     395.000000  ...     4666.887945   \n",
              "\n",
              "Variable_Code  VEG_ACRESPTH12  VEG_FARMS07  VEG_FARMS12  VLFOODSEC_12_14  \\\n",
              "count             2531.000000  3080.000000  3080.000000      3143.000000   \n",
              "mean                42.188279    22.456818    23.387662         5.915527   \n",
              "std                210.373851    43.590495    42.371726         0.980072   \n",
              "min                  0.000000     0.000000     0.000000         2.900000   \n",
              "25%                  0.493706     4.000000     4.000000         5.200000   \n",
              "50%                  1.995439    11.000000    11.000000         6.200000   \n",
              "75%                  7.831337    26.000000    26.000000         6.400000   \n",
              "max               4500.768246  1100.000000   815.000000         8.100000   \n",
              "\n",
              "Variable_Code  VLFOODSEC_15_17       WICS11       WICS16    WICSPTH11  \\\n",
              "count              3143.000000  3011.000000  2985.000000  3008.000000   \n",
              "mean                  5.098027    15.724012    14.577889     0.245190   \n",
              "std                   1.055067    56.531200    48.084899     0.211686   \n",
              "min                   2.900000     1.000000     1.000000     0.004029   \n",
              "25%                   4.100000     3.000000     2.000000     0.128155   \n",
              "50%                   5.100000     5.000000     5.000000     0.186860   \n",
              "75%                   5.800000    11.000000    10.000000     0.277210   \n",
              "max                   7.100000  1579.000000  1188.000000     3.048780   \n",
              "\n",
              "Variable_Code    WICSPTH16  \n",
              "count          2982.000000  \n",
              "mean              0.217240  \n",
              "std               0.191315  \n",
              "min               0.004938  \n",
              "25%               0.114667  \n",
              "50%               0.165353  \n",
              "75%               0.247699  \n",
              "max               3.262643  \n",
              "\n",
              "[8 rows x 282 columns]"
            ],
            "text/html": [
              "\n",
              "  <div id=\"df-6c9f99c8-97c2-4ef9-9ce2-822b01e2bbf9\">\n",
              "    <div class=\"colab-df-container\">\n",
              "      <div>\n",
              "<style scoped>\n",
              "    .dataframe tbody tr th:only-of-type {\n",
              "        vertical-align: middle;\n",
              "    }\n",
              "\n",
              "    .dataframe tbody tr th {\n",
              "        vertical-align: top;\n",
              "    }\n",
              "\n",
              "    .dataframe thead th {\n",
              "        text-align: right;\n",
              "    }\n",
              "</style>\n",
              "<table border=\"1\" class=\"dataframe\">\n",
              "  <thead>\n",
              "    <tr style=\"text-align: right;\">\n",
              "      <th>Variable_Code</th>\n",
              "      <th>FIPS</th>\n",
              "      <th>AGRITRSM_OPS07</th>\n",
              "      <th>AGRITRSM_OPS12</th>\n",
              "      <th>AGRITRSM_RCT07</th>\n",
              "      <th>AGRITRSM_RCT12</th>\n",
              "      <th>BERRY_ACRES07</th>\n",
              "      <th>BERRY_ACRES12</th>\n",
              "      <th>BERRY_ACRESPTH07</th>\n",
              "      <th>BERRY_ACRESPTH12</th>\n",
              "      <th>BERRY_FARMS07</th>\n",
              "      <th>...</th>\n",
              "      <th>VEG_ACRESPTH07</th>\n",
              "      <th>VEG_ACRESPTH12</th>\n",
              "      <th>VEG_FARMS07</th>\n",
              "      <th>VEG_FARMS12</th>\n",
              "      <th>VLFOODSEC_12_14</th>\n",
              "      <th>VLFOODSEC_15_17</th>\n",
              "      <th>WICS11</th>\n",
              "      <th>WICS16</th>\n",
              "      <th>WICSPTH11</th>\n",
              "      <th>WICSPTH16</th>\n",
              "    </tr>\n",
              "  </thead>\n",
              "  <tbody>\n",
              "    <tr>\n",
              "      <th>count</th>\n",
              "      <td>3143.000000</td>\n",
              "      <td>3080.000000</td>\n",
              "      <td>3080.000000</td>\n",
              "      <td>1.974000e+03</td>\n",
              "      <td>2.119000e+03</td>\n",
              "      <td>2305.000000</td>\n",
              "      <td>2334.000000</td>\n",
              "      <td>2305.000000</td>\n",
              "      <td>2333.000000</td>\n",
              "      <td>3080.000000</td>\n",
              "      <td>...</td>\n",
              "      <td>2532.000000</td>\n",
              "      <td>2531.000000</td>\n",
              "      <td>3080.000000</td>\n",
              "      <td>3080.000000</td>\n",
              "      <td>3143.000000</td>\n",
              "      <td>3143.000000</td>\n",
              "      <td>3011.000000</td>\n",
              "      <td>2985.000000</td>\n",
              "      <td>3008.000000</td>\n",
              "      <td>2982.000000</td>\n",
              "    </tr>\n",
              "    <tr>\n",
              "      <th>mean</th>\n",
              "      <td>30390.411709</td>\n",
              "      <td>7.579545</td>\n",
              "      <td>10.764935</td>\n",
              "      <td>2.108313e+05</td>\n",
              "      <td>2.766437e+05</td>\n",
              "      <td>108.856833</td>\n",
              "      <td>120.325621</td>\n",
              "      <td>1.728031</td>\n",
              "      <td>1.972856</td>\n",
              "      <td>8.122078</td>\n",
              "      <td>...</td>\n",
              "      <td>42.722869</td>\n",
              "      <td>42.188279</td>\n",
              "      <td>22.456818</td>\n",
              "      <td>23.387662</td>\n",
              "      <td>5.915527</td>\n",
              "      <td>5.098027</td>\n",
              "      <td>15.724012</td>\n",
              "      <td>14.577889</td>\n",
              "      <td>0.245190</td>\n",
              "      <td>0.217240</td>\n",
              "    </tr>\n",
              "    <tr>\n",
              "      <th>std</th>\n",
              "      <td>15164.717720</td>\n",
              "      <td>10.407053</td>\n",
              "      <td>15.438169</td>\n",
              "      <td>5.423634e+05</td>\n",
              "      <td>7.750182e+05</td>\n",
              "      <td>924.730823</td>\n",
              "      <td>975.864547</td>\n",
              "      <td>21.152581</td>\n",
              "      <td>22.985520</td>\n",
              "      <td>19.563341</td>\n",
              "      <td>...</td>\n",
              "      <td>212.987831</td>\n",
              "      <td>210.373851</td>\n",
              "      <td>43.590495</td>\n",
              "      <td>42.371726</td>\n",
              "      <td>0.980072</td>\n",
              "      <td>1.055067</td>\n",
              "      <td>56.531200</td>\n",
              "      <td>48.084899</td>\n",
              "      <td>0.211686</td>\n",
              "      <td>0.191315</td>\n",
              "    </tr>\n",
              "    <tr>\n",
              "      <th>min</th>\n",
              "      <td>1001.000000</td>\n",
              "      <td>0.000000</td>\n",
              "      <td>0.000000</td>\n",
              "      <td>0.000000e+00</td>\n",
              "      <td>0.000000e+00</td>\n",
              "      <td>0.000000</td>\n",
              "      <td>0.000000</td>\n",
              "      <td>0.000000</td>\n",
              "      <td>0.000000</td>\n",
              "      <td>0.000000</td>\n",
              "      <td>...</td>\n",
              "      <td>0.000000</td>\n",
              "      <td>0.000000</td>\n",
              "      <td>0.000000</td>\n",
              "      <td>0.000000</td>\n",
              "      <td>2.900000</td>\n",
              "      <td>2.900000</td>\n",
              "      <td>1.000000</td>\n",
              "      <td>1.000000</td>\n",
              "      <td>0.004029</td>\n",
              "      <td>0.004938</td>\n",
              "    </tr>\n",
              "    <tr>\n",
              "      <th>25%</th>\n",
              "      <td>18178.000000</td>\n",
              "      <td>2.000000</td>\n",
              "      <td>3.000000</td>\n",
              "      <td>7.000000e+03</td>\n",
              "      <td>1.300000e+04</td>\n",
              "      <td>0.000000</td>\n",
              "      <td>0.000000</td>\n",
              "      <td>0.000000</td>\n",
              "      <td>0.000000</td>\n",
              "      <td>0.000000</td>\n",
              "      <td>...</td>\n",
              "      <td>0.497257</td>\n",
              "      <td>0.493706</td>\n",
              "      <td>4.000000</td>\n",
              "      <td>4.000000</td>\n",
              "      <td>5.200000</td>\n",
              "      <td>4.100000</td>\n",
              "      <td>3.000000</td>\n",
              "      <td>2.000000</td>\n",
              "      <td>0.128155</td>\n",
              "      <td>0.114667</td>\n",
              "    </tr>\n",
              "    <tr>\n",
              "      <th>50%</th>\n",
              "      <td>29177.000000</td>\n",
              "      <td>5.000000</td>\n",
              "      <td>6.000000</td>\n",
              "      <td>4.200000e+04</td>\n",
              "      <td>6.500000e+04</td>\n",
              "      <td>5.000000</td>\n",
              "      <td>6.000000</td>\n",
              "      <td>0.101541</td>\n",
              "      <td>0.132127</td>\n",
              "      <td>3.000000</td>\n",
              "      <td>...</td>\n",
              "      <td>2.004499</td>\n",
              "      <td>1.995439</td>\n",
              "      <td>11.000000</td>\n",
              "      <td>11.000000</td>\n",
              "      <td>6.200000</td>\n",
              "      <td>5.100000</td>\n",
              "      <td>5.000000</td>\n",
              "      <td>5.000000</td>\n",
              "      <td>0.186860</td>\n",
              "      <td>0.165353</td>\n",
              "    </tr>\n",
              "    <tr>\n",
              "      <th>75%</th>\n",
              "      <td>45082.000000</td>\n",
              "      <td>9.000000</td>\n",
              "      <td>13.000000</td>\n",
              "      <td>1.687500e+05</td>\n",
              "      <td>2.330000e+05</td>\n",
              "      <td>22.000000</td>\n",
              "      <td>24.000000</td>\n",
              "      <td>0.400727</td>\n",
              "      <td>0.466003</td>\n",
              "      <td>8.000000</td>\n",
              "      <td>...</td>\n",
              "      <td>7.850431</td>\n",
              "      <td>7.831337</td>\n",
              "      <td>26.000000</td>\n",
              "      <td>26.000000</td>\n",
              "      <td>6.400000</td>\n",
              "      <td>5.800000</td>\n",
              "      <td>11.000000</td>\n",
              "      <td>10.000000</td>\n",
              "      <td>0.277210</td>\n",
              "      <td>0.247699</td>\n",
              "    </tr>\n",
              "    <tr>\n",
              "      <th>max</th>\n",
              "      <td>56045.000000</td>\n",
              "      <td>161.000000</td>\n",
              "      <td>236.000000</td>\n",
              "      <td>8.464000e+06</td>\n",
              "      <td>2.372300e+07</td>\n",
              "      <td>28904.000000</td>\n",
              "      <td>29218.000000</td>\n",
              "      <td>864.767832</td>\n",
              "      <td>898.490114</td>\n",
              "      <td>395.000000</td>\n",
              "      <td>...</td>\n",
              "      <td>4666.887945</td>\n",
              "      <td>4500.768246</td>\n",
              "      <td>1100.000000</td>\n",
              "      <td>815.000000</td>\n",
              "      <td>8.100000</td>\n",
              "      <td>7.100000</td>\n",
              "      <td>1579.000000</td>\n",
              "      <td>1188.000000</td>\n",
              "      <td>3.048780</td>\n",
              "      <td>3.262643</td>\n",
              "    </tr>\n",
              "  </tbody>\n",
              "</table>\n",
              "<p>8 rows × 282 columns</p>\n",
              "</div>\n",
              "      <button class=\"colab-df-convert\" onclick=\"convertToInteractive('df-6c9f99c8-97c2-4ef9-9ce2-822b01e2bbf9')\"\n",
              "              title=\"Convert this dataframe to an interactive table.\"\n",
              "              style=\"display:none;\">\n",
              "        \n",
              "  <svg xmlns=\"http://www.w3.org/2000/svg\" height=\"24px\"viewBox=\"0 0 24 24\"\n",
              "       width=\"24px\">\n",
              "    <path d=\"M0 0h24v24H0V0z\" fill=\"none\"/>\n",
              "    <path d=\"M18.56 5.44l.94 2.06.94-2.06 2.06-.94-2.06-.94-.94-2.06-.94 2.06-2.06.94zm-11 1L8.5 8.5l.94-2.06 2.06-.94-2.06-.94L8.5 2.5l-.94 2.06-2.06.94zm10 10l.94 2.06.94-2.06 2.06-.94-2.06-.94-.94-2.06-.94 2.06-2.06.94z\"/><path d=\"M17.41 7.96l-1.37-1.37c-.4-.4-.92-.59-1.43-.59-.52 0-1.04.2-1.43.59L10.3 9.45l-7.72 7.72c-.78.78-.78 2.05 0 2.83L4 21.41c.39.39.9.59 1.41.59.51 0 1.02-.2 1.41-.59l7.78-7.78 2.81-2.81c.8-.78.8-2.07 0-2.86zM5.41 20L4 18.59l7.72-7.72 1.47 1.35L5.41 20z\"/>\n",
              "  </svg>\n",
              "      </button>\n",
              "      \n",
              "  <style>\n",
              "    .colab-df-container {\n",
              "      display:flex;\n",
              "      flex-wrap:wrap;\n",
              "      gap: 12px;\n",
              "    }\n",
              "\n",
              "    .colab-df-convert {\n",
              "      background-color: #E8F0FE;\n",
              "      border: none;\n",
              "      border-radius: 50%;\n",
              "      cursor: pointer;\n",
              "      display: none;\n",
              "      fill: #1967D2;\n",
              "      height: 32px;\n",
              "      padding: 0 0 0 0;\n",
              "      width: 32px;\n",
              "    }\n",
              "\n",
              "    .colab-df-convert:hover {\n",
              "      background-color: #E2EBFA;\n",
              "      box-shadow: 0px 1px 2px rgba(60, 64, 67, 0.3), 0px 1px 3px 1px rgba(60, 64, 67, 0.15);\n",
              "      fill: #174EA6;\n",
              "    }\n",
              "\n",
              "    [theme=dark] .colab-df-convert {\n",
              "      background-color: #3B4455;\n",
              "      fill: #D2E3FC;\n",
              "    }\n",
              "\n",
              "    [theme=dark] .colab-df-convert:hover {\n",
              "      background-color: #434B5C;\n",
              "      box-shadow: 0px 1px 3px 1px rgba(0, 0, 0, 0.15);\n",
              "      filter: drop-shadow(0px 1px 2px rgba(0, 0, 0, 0.3));\n",
              "      fill: #FFFFFF;\n",
              "    }\n",
              "  </style>\n",
              "\n",
              "      <script>\n",
              "        const buttonEl =\n",
              "          document.querySelector('#df-6c9f99c8-97c2-4ef9-9ce2-822b01e2bbf9 button.colab-df-convert');\n",
              "        buttonEl.style.display =\n",
              "          google.colab.kernel.accessAllowed ? 'block' : 'none';\n",
              "\n",
              "        async function convertToInteractive(key) {\n",
              "          const element = document.querySelector('#df-6c9f99c8-97c2-4ef9-9ce2-822b01e2bbf9');\n",
              "          const dataTable =\n",
              "            await google.colab.kernel.invokeFunction('convertToInteractive',\n",
              "                                                     [key], {});\n",
              "          if (!dataTable) return;\n",
              "\n",
              "          const docLinkHtml = 'Like what you see? Visit the ' +\n",
              "            '<a target=\"_blank\" href=https://colab.research.google.com/notebooks/data_table.ipynb>data table notebook</a>'\n",
              "            + ' to learn more about interactive tables.';\n",
              "          element.innerHTML = '';\n",
              "          dataTable['output_type'] = 'display_data';\n",
              "          await google.colab.output.renderOutput(dataTable, element);\n",
              "          const docLink = document.createElement('div');\n",
              "          docLink.innerHTML = docLinkHtml;\n",
              "          element.appendChild(docLink);\n",
              "        }\n",
              "      </script>\n",
              "    </div>\n",
              "  </div>\n",
              "  "
            ]
          },
          "metadata": {},
          "execution_count": 33
        }
      ]
    },
    {
      "cell_type": "code",
      "source": [
        "df_fda_full.isnull().sum()"
      ],
      "metadata": {
        "colab": {
          "base_uri": "https://localhost:8080/"
        },
        "id": "Le_KWyKZmcct",
        "outputId": "8d44b2ba-e349-4da4-d7b0-f09750a34fb9"
      },
      "execution_count": 34,
      "outputs": [
        {
          "output_type": "execute_result",
          "data": {
            "text/plain": [
              "Variable_Code\n",
              "FIPS                 0\n",
              "State                0\n",
              "County               0\n",
              "AGRITRSM_OPS07      63\n",
              "AGRITRSM_OPS12      63\n",
              "                  ... \n",
              "VLFOODSEC_15_17      0\n",
              "WICS11             132\n",
              "WICS16             158\n",
              "WICSPTH11          135\n",
              "WICSPTH16          161\n",
              "Length: 284, dtype: int64"
            ]
          },
          "metadata": {},
          "execution_count": 34
        }
      ]
    },
    {
      "cell_type": "code",
      "source": [
        "# df_fda_county['County'] = df_fda_full['County']\n",
        "# df_fda_county['County']\n",
        "# df_fda_county['County'].update(df_fda_full['County'])\n",
        "# df_fda_full.update(df_fda_county)"
      ],
      "metadata": {
        "id": "vydVLszEyDPG"
      },
      "execution_count": 35,
      "outputs": []
    },
    {
      "cell_type": "code",
      "source": [
        "# df_fda_full.update(df_fda_county)"
      ],
      "metadata": {
        "id": "iSMwyuqWjgOM"
      },
      "execution_count": 36,
      "outputs": []
    },
    {
      "cell_type": "code",
      "source": [
        "# df_fda_full.iloc[60:80,:]"
      ],
      "metadata": {
        "id": "vr9Hf3gZ6D7e"
      },
      "execution_count": 37,
      "outputs": []
    },
    {
      "cell_type": "code",
      "source": [
        "# count = 0\n",
        "# for col in df_fda_full.columns:\n",
        "#     if df_fda_full[col].isnull().sum() >= 3256:\n",
        "#         print(col)\n",
        "#         count +=1\n",
        "#     else:\n",
        "#         # pass\n",
        "#         print('not working')\n",
        "# print(count)\n",
        "# # all_cats[cat_list[i]] = df[df.Category_Code == cat_list[i]].Variable_Code.tolist()"
      ],
      "metadata": {
        "id": "mAOZolMX_1X5"
      },
      "execution_count": 38,
      "outputs": []
    },
    {
      "cell_type": "markdown",
      "source": [
        "#### df_fda\n",
        "\n",
        "Here I'll create a new working dataframe, 'df_fda', which will feature only the project-relevant features.\n",
        "\n",
        "Includes:\n",
        "* indices from 'col_ind' \n",
        "* features from 'col_feat'"
      ],
      "metadata": {
        "id": "rVFUUa7wYLst"
      }
    },
    {
      "cell_type": "code",
      "source": [
        "# view selection\n",
        "print(\"Features: \")\n",
        "print('\\n'.join(col_feat))"
      ],
      "metadata": {
        "id": "1XP4_jAKEHo8"
      },
      "execution_count": null,
      "outputs": []
    },
    {
      "cell_type": "code",
      "source": [
        "# # creates list of var lists from selected cats\n",
        "# col_feat = [] \n",
        "# for cat, vars in all_cats.items():\n",
        "#     if cat in cat_select:\n",
        "#         print(f\"cat found: {cat} --> vars added to 'col_feat'\")\n",
        "#         for var in vars:\n",
        "#             col_feat.append(var)\n",
        "#     else:\n",
        "#         print(\"---\")\n",
        "# print('')\n",
        "# print(f'col_feat:   {col_feat}\\n\\\n",
        "# Count:  {len(col_feat)}')"
      ],
      "metadata": {
        "id": "CD_QNpsjMrKr"
      },
      "execution_count": 40,
      "outputs": []
    },
    {
      "cell_type": "code",
      "source": [
        "col_fda = df_fda_full.columns.tolist()\n",
        "col_ind = col_fda[:3]"
      ],
      "metadata": {
        "id": "7gk_D7kem4z1"
      },
      "execution_count": 41,
      "outputs": []
    },
    {
      "cell_type": "code",
      "source": [
        "len(col_fda)"
      ],
      "metadata": {
        "colab": {
          "base_uri": "https://localhost:8080/"
        },
        "id": "TaaZEKeV7gwh",
        "outputId": "2b2f2507-4987-4dac-e054-61e20cedbe98"
      },
      "execution_count": 42,
      "outputs": [
        {
          "output_type": "execute_result",
          "data": {
            "text/plain": [
              "284"
            ]
          },
          "metadata": {},
          "execution_count": 42
        }
      ]
    },
    {
      "cell_type": "code",
      "source": [
        "# cull the columns\n",
        "match = []\n",
        "no_match = []\n",
        "\n",
        "for col in col_feat:\n",
        "    if col in col_fda:\n",
        "        match.append(col)\n",
        "    else:\n",
        "        no_match.append(col)\n",
        "\n",
        "# update feature list\n",
        "col_feat = match        \n",
        "print(f\"No match:\")\n",
        "print('\\n'.join(no_match))\n",
        "print('')\n",
        "print(f\"Matched:\")\n",
        "print('\\n'.join(col_feat))"
      ],
      "metadata": {
        "id": "t0oqI9HKpR6P"
      },
      "execution_count": null,
      "outputs": []
    },
    {
      "cell_type": "code",
      "source": [
        "# list of all col lists\n",
        "col_select = [col_ind, col_feat]\n",
        "print(f\"len col_select after list of lists: {len(col_select)}\")\n",
        "# flatten \n",
        "col_select = [col for cols in col_select for col in cols]\n",
        "print(f\"len col_select after flatten: {len(col_select)}\")\n",
        "# synchronize \n",
        "col_select = [col for col in col_select if col in col_fda]\n",
        "print(f\"len col_select after sync: {len(col_select)}\")\n",
        "\n",
        "print(len(col_select))"
      ],
      "metadata": {
        "id": "L_uWR4-BwE0_"
      },
      "execution_count": null,
      "outputs": []
    },
    {
      "cell_type": "code",
      "source": [
        "# create new dataframe \n",
        "df_fda = pd.DataFrame(df_fda_full[col_select])\n",
        "# save columns\n",
        "col_fda = df_fda.columns"
      ],
      "metadata": {
        "id": "C9AD3EavEbJC"
      },
      "execution_count": 47,
      "outputs": []
    },
    {
      "cell_type": "code",
      "source": [
        "# shape\n",
        "print(f'\\nShape of df_fda: {df_fda_full.shape}')\n",
        "# columns\n",
        "print(f'\\nColumns in df_fda: {col_fda}')"
      ],
      "metadata": {
        "id": "CBMGNnsBHqx_"
      },
      "execution_count": null,
      "outputs": []
    },
    {
      "cell_type": "code",
      "source": [
        "# display head\n",
        "df_fda.head()"
      ],
      "metadata": {
        "id": "9PeU6q9goT17"
      },
      "execution_count": null,
      "outputs": []
    },
    {
      "cell_type": "code",
      "source": [
        "len(df_fda.columns)#[90]"
      ],
      "metadata": {
        "colab": {
          "base_uri": "https://localhost:8080/"
        },
        "id": "iQtU8evVsIX6",
        "outputId": "34a75225-da8a-4c9b-ca6e-0154fdd2cb39"
      },
      "execution_count": 51,
      "outputs": [
        {
          "output_type": "execute_result",
          "data": {
            "text/plain": [
              "90"
            ]
          },
          "metadata": {},
          "execution_count": 51
        }
      ]
    },
    {
      "cell_type": "markdown",
      "source": [
        "### Cleaning"
      ],
      "metadata": {
        "id": "2zJNTLUUkUvJ"
      }
    },
    {
      "cell_type": "code",
      "source": [
        "# check for nulls\n",
        "counter = 0\n",
        "for i in range(len(df_fda.columns)):\n",
        "    col = df_fda.columns[i]\n",
        "    sum = df_fda.loc[:, col].isnull().sum()\n",
        "    if counter == 63 and col == 'FMRKTPTH18':\n",
        "        print('\\n------\\n   The proceeding 2 columns repeat the preceding 2\\n------')\n",
        "        print('\\nidx:',counter)\n",
        "        print(df_fda.columns[i])\n",
        "        print('nulls = ', sum)\n",
        "        counter +=1\n",
        "    elif counter == 64 and col == 'PCH_FMRKTPTH_13_18':\n",
        "        print('\\nidx:',counter)\n",
        "        print(df_fda.columns[i])\n",
        "        print('nulls = ', sum)\n",
        "        print('\\n------\\n------')\n",
        "        counter +=1\n",
        "    else:\n",
        "        print('\\nidx:',counter)\n",
        "        print(df_fda.columns[i])\n",
        "        print('nulls = ', sum)\n",
        "        counter +=1"
      ],
      "metadata": {
        "id": "3Adct4C64LWE"
      },
      "execution_count": null,
      "outputs": []
    },
    {
      "cell_type": "code",
      "source": [
        "# remove duplicates (keep first) \n",
        "df_fda = df_fda.loc[:,~df_fda.T.duplicated(keep='first')]"
      ],
      "metadata": {
        "id": "ba5MhHRSzaLC"
      },
      "execution_count": 54,
      "outputs": []
    },
    {
      "cell_type": "code",
      "source": [
        "# verify\n",
        "df_fda.iloc[:,60:65] "
      ],
      "metadata": {
        "id": "pnMzn4Lq0QvV"
      },
      "execution_count": null,
      "outputs": []
    },
    {
      "cell_type": "code",
      "source": [
        "df_fda.info()"
      ],
      "metadata": {
        "id": "l7FtfFWkrLC_"
      },
      "execution_count": null,
      "outputs": []
    },
    {
      "cell_type": "code",
      "source": [
        "# this list comprehension will identify which features have NAN values in the 98 percentile or above\n",
        "percentile = .98\n",
        "nan_outliers = [col for col in df_fda.columns if df_fda.loc[:,col].isnull().sum() >= df_fda.isnull().sum().quantile(percentile)]\n",
        "# display outliers\n",
        "[print(outlier, df_fda.loc[:,outlier].isnull().sum()) for outlier in nan_outliers]\n"
      ],
      "metadata": {
        "colab": {
          "base_uri": "https://localhost:8080/"
        },
        "id": "yuW28ZAd6M24",
        "outputId": "283e21a0-5670-4583-f0f5-aa4373a19501"
      },
      "execution_count": 58,
      "outputs": [
        {
          "output_type": "stream",
          "name": "stdout",
          "text": [
            "PC_WIC_REDEMP16 1286\n",
            "PCH_PC_WIC_REDEMP_11_16 1335\n"
          ]
        },
        {
          "output_type": "execute_result",
          "data": {
            "text/plain": [
              "[None, None]"
            ]
          },
          "metadata": {},
          "execution_count": 58
        }
      ]
    },
    {
      "cell_type": "code",
      "source": [
        "# since we have enough data otherwise, we can drop these columns\n",
        "\n",
        "# drop columns\n",
        "df_fda = df_fda.drop(columns = nan_outliers)\n",
        "# update list of feature columns\n",
        "col_feat = df_fda.columns[3:]"
      ],
      "metadata": {
        "id": "pa7eDnZ98ukg"
      },
      "execution_count": 59,
      "outputs": []
    },
    {
      "cell_type": "code",
      "source": [
        "df_fda.shape"
      ],
      "metadata": {
        "colab": {
          "base_uri": "https://localhost:8080/"
        },
        "id": "ejfpZdlbV328",
        "outputId": "fb9d2ca9-9a8d-467c-9ba5-271c050df85e"
      },
      "execution_count": 60,
      "outputs": [
        {
          "output_type": "execute_result",
          "data": {
            "text/plain": [
              "(3143, 86)"
            ]
          },
          "metadata": {},
          "execution_count": 60
        }
      ]
    },
    {
      "cell_type": "code",
      "source": [
        "df_fda.isnull().sum().quantile(.99)"
      ],
      "metadata": {
        "colab": {
          "base_uri": "https://localhost:8080/"
        },
        "id": "Hu6fjH4f-DMw",
        "outputId": "8d321561-1d38-48d6-890a-bf0f17f224bb"
      },
      "execution_count": 61,
      "outputs": [
        {
          "output_type": "execute_result",
          "data": {
            "text/plain": [
              "359.6500000000027"
            ]
          },
          "metadata": {},
          "execution_count": 61
        }
      ]
    },
    {
      "cell_type": "code",
      "source": [
        "# Here, we'll check for new outliers\n",
        "percentile = .99\n",
        "\n",
        "# identify outliers\n",
        "nan_outliers = [col for col in df_fda.columns if df_fda.loc[:,col].isnull().sum() >= df_fda.isnull().sum().quantile(percentile)]\n",
        "# display outliers\n",
        "[print(outlier, df_fda.loc[:,outlier].isnull().sum()) for outlier in nan_outliers]"
      ],
      "metadata": {
        "colab": {
          "base_uri": "https://localhost:8080/"
        },
        "id": "t4d97iTGhE4g",
        "outputId": "4b75549a-365f-4f87-ab41-8c7eb7dc21ed"
      },
      "execution_count": 97,
      "outputs": [
        {
          "output_type": "stream",
          "name": "stdout",
          "text": [
            "PCT_HSPA17 760\n"
          ]
        },
        {
          "output_type": "execute_result",
          "data": {
            "text/plain": [
              "[None]"
            ]
          },
          "metadata": {},
          "execution_count": 97
        }
      ]
    },
    {
      "cell_type": "code",
      "source": [
        "# summary stats on NANs\n",
        "print(df_fda.isnull().sum().describe(),'\\n')\n",
        "# visualize with a histogram\n",
        "df_fda.isnull().sum().describe().plot(kind='hist',colormap='plasma',figsize=(12,4));"
      ],
      "metadata": {
        "colab": {
          "base_uri": "https://localhost:8080/",
          "height": 448
        },
        "id": "-Kc4EJPomHdf",
        "outputId": "88695865-bdc5-42ed-f403-da31c6916889"
      },
      "execution_count": 80,
      "outputs": [
        {
          "output_type": "stream",
          "name": "stdout",
          "text": [
            "count     86.000000\n",
            "mean      36.279070\n",
            "std       99.004177\n",
            "min        0.000000\n",
            "25%        0.000000\n",
            "50%        1.000000\n",
            "75%       19.000000\n",
            "max      760.000000\n",
            "dtype: float64 \n",
            "\n"
          ]
        },
        {
          "output_type": "display_data",
          "data": {
            "text/plain": [
              "<Figure size 864x288 with 1 Axes>"
            ],
            "image/png": "[encoded data removed]"
          },
          "metadata": {
            "needs_background": "light"
          }
        }
      ]
    },
    {
      "cell_type": "markdown",
      "source": [
        "By cutting out the two most extreme outliers, we've brought the range of NAN instances down significantly. Only one significant outlier remains: PCT_HSPA17, the percentage of the population that is of Hispanic origin. With a NAN count of 760, it's the only feature in the upper 61% of the distribution. However, dropping this feature may lead to an underrepresentation of this segment of the population in training. \n",
        "\n",
        "Fortunately, we also see the same demographical data reflected for 2010 by PCT_HISP10. As it turns out, the other demographics pertaining to race are all from 2010 as well, so dropping PCT_HSPA17 should not negatively impact the integrity of the data.\n"
      ],
      "metadata": {
        "id": "nYC_xYyYl4A9"
      }
    },
    {
      "cell_type": "code",
      "source": [
        "# drop column\n",
        "df_fda = df_fda.drop(columns = nan_outliers)\n",
        "# update column lists\n",
        "col_fda col_feat = df_fda.columns[3:]"
      ],
      "metadata": {
        "id": "gPxwAeX-2DwG"
      },
      "execution_count": 98,
      "outputs": []
    },
    {
      "cell_type": "code",
      "source": [
        "df_fda.shape #85"
      ],
      "metadata": {
        "colab": {
          "base_uri": "https://localhost:8080/"
        },
        "outputId": "f1263338-0920-4f1c-f457-e8c57a465e12",
        "id": "npzdwcXy2DwH"
      },
      "execution_count": 99,
      "outputs": [
        {
          "output_type": "execute_result",
          "data": {
            "text/plain": [
              "(3143, 85)"
            ]
          },
          "metadata": {},
          "execution_count": 99
        }
      ]
    },
    {
      "cell_type": "code",
      "source": [
        "df_fda.isnull().sum().quantile(.99)"
      ],
      "metadata": {
        "colab": {
          "base_uri": "https://localhost:8080/"
        },
        "outputId": "6a8bc02d-81ab-46fe-8713-0710513c5d7e",
        "id": "k9eGNcTO2DwH"
      },
      "execution_count": 100,
      "outputs": [
        {
          "output_type": "execute_result",
          "data": {
            "text/plain": [
              "289.0"
            ]
          },
          "metadata": {},
          "execution_count": 100
        }
      ]
    },
    {
      "cell_type": "code",
      "source": [
        "df_fda_full.loc[:,'PCT_HISP10'].isnull().sum()"
      ],
      "metadata": {
        "colab": {
          "base_uri": "https://localhost:8080/"
        },
        "id": "3CFu6_eqqLdC",
        "outputId": "5208fbd7-3914-4aac-d303-be2d44475ce7"
      },
      "execution_count": 84,
      "outputs": [
        {
          "output_type": "execute_result",
          "data": {
            "text/plain": [
              "0"
            ]
          },
          "metadata": {},
          "execution_count": 84
        }
      ]
    },
    {
      "cell_type": "code",
      "source": [
        "# update column lists\n",
        "col_feat = df_fda.columns[3:]\n",
        "col_fda = df_fda.columns"
      ],
      "metadata": {
        "id": "Hna_Zm_5CCBd"
      },
      "execution_count": 95,
      "outputs": []
    },
    {
      "cell_type": "code",
      "source": [
        "assert len(col_feat) == 83"
      ],
      "metadata": {
        "id": "3FJQ1lIUgysm"
      },
      "execution_count": null,
      "outputs": []
    },
    {
      "cell_type": "code",
      "source": [
        "col_feat"
      ],
      "metadata": {
        "colab": {
          "base_uri": "https://localhost:8080/"
        },
        "id": "Ddkhp41YpIrk",
        "outputId": "dad749c9-2f51-48da-b821-f8cb65254490"
      },
      "execution_count": 81,
      "outputs": [
        {
          "output_type": "execute_result",
          "data": {
            "text/plain": [
              "Index(['PCH_LACCESS_POP_10_15', 'PCT_LACCESS_POP15', 'PCH_LACCESS_LOWI_10_15',\n",
              "       'PCT_LACCESS_LOWI15', 'PCH_LACCESS_HHNV_10_15', 'PCT_LACCESS_HHNV15',\n",
              "       'PCT_LACCESS_SNAP15', 'PCT_LACCESS_CHILD15',\n",
              "       'PCH_LACCESS_SENIORS_10_15', 'PCT_LACCESS_SENIORS15',\n",
              "       'PCT_LACCESS_WHITE15', 'PCT_LACCESS_BLACK15', 'PCT_LACCESS_HISP15',\n",
              "       'PCT_LACCESS_NHASIAN15', 'PCT_LACCESS_NHNA15', 'PCT_LACCESS_NHPI15',\n",
              "       'PCT_LACCESS_MULTIR15', 'PCH_GROCPTH_11_16', 'GROCPTH16',\n",
              "       'PCH_SUPERCPTH_11_16', 'SUPERCPTH16', 'CONVSPTH16', 'PCH_CONVS_11_16',\n",
              "       'SNAPSPTH17', 'PCH_SNAPSPTH_12_17', 'WICSPTH16', 'PCH_WICSPTH_11_16',\n",
              "       'PCH_FFRPTH_11_16', 'FFRPTH16', 'SNAP_PART_RATE16', 'SNAP_BBCE16',\n",
              "       'SNAP_CAP16', 'SNAP_OAPP16', 'PC_SNAPBEN17', 'PCH_SNAP_12_17',\n",
              "       'PCT_NSLP17', 'PCH_NSLP_12_17', 'PCT_FREE_LUNCH15',\n",
              "       'PCT_REDUCED_LUNCH15', 'PCT_SBP17', 'PCH_SBP_12_17', 'PCT_SFSP17',\n",
              "       'PCH_SFSP_12_17', 'REDEMP_WICS11', 'REDEMP_WICS16',\n",
              "       'PCH_REDEMP_WICS_11_16', 'PCT_WIC17', 'PCH_WIC_12_17', 'FDPIR15',\n",
              "       'PCH_FDPIR_12_15', 'FOOD_BANKS18', 'FOODINSEC_12_14', 'FOODINSEC_15_17',\n",
              "       'CH_FOODINSEC_14_17', 'VLFOODSEC_15_17', 'CH_VLFOODSEC_14_17',\n",
              "       'FMRKTPTH18', 'PCH_FMRKTPTH_13_18', 'PCT_FMRKT_SNAP18',\n",
              "       'PCT_FMRKT_WIC18', 'FMRKT_WICCASH18', 'PCT_FMRKT_WICCASH18',\n",
              "       'FMRKT_SFMNP18', 'PCT_FMRKT_SFMNP18', 'PCT_DIABETES_ADULTS13',\n",
              "       'PCT_OBESE_ADULTS12', 'PCT_OBESE_ADULTS17', 'PCT_HSPA17', 'RECFACPTH16',\n",
              "       'PCH_RECFACPTH_11_16', 'PCT_NHWHITE10', 'PCT_NHBLACK10', 'PCT_HISP10',\n",
              "       'PCT_NHASIAN10', 'PCT_NHNA10', 'PCT_NHPI10', 'PCT_65OLDER10',\n",
              "       'PCT_18YOUNGER10', 'MEDHHINC15', 'POVRATE15', 'PERPOV10',\n",
              "       'CHILDPOVRATE15', 'PERCHLDPOV10'],\n",
              "      dtype='object', name='Variable_Code')"
            ]
          },
          "metadata": {},
          "execution_count": 81
        }
      ]
    },
    {
      "cell_type": "code",
      "source": [
        "df_fda.info()"
      ],
      "metadata": {
        "id": "_WWh9ktd-ghA"
      },
      "execution_count": null,
      "outputs": []
    },
    {
      "cell_type": "markdown",
      "source": [
        "### Encoding\n",
        "Considering how many unique values are reflected in the 'State' and 'County' (>3200) variables, one hot encoding them would bring the curse of diumensionality, whereas ordinally encoding them might assign a false significance to the location.  \n",
        "\n",
        "Since the \"FIPS\" variable indicates location, we can avoid using either of these variables by excluding them from the analysis, using them instead for interpretability when using the FIPS code to identify target regions. "
      ],
      "metadata": {
        "id": "i2OPEQwz-nwA"
      }
    },
    {
      "cell_type": "markdown",
      "source": [
        "### Transformation"
      ],
      "metadata": {
        "id": "q7PTgBKke1-U"
      }
    },
    {
      "cell_type": "markdown",
      "source": [
        "#### Data Split\n",
        "\n"
      ],
      "metadata": {
        "id": "gyKKCNL0S0uW"
      }
    },
    {
      "cell_type": "code",
      "source": [
        "pipes = {}\n",
        "def add_pipe(pipe, name):\n",
        "    '''\n",
        "    Stores pipeline in dictionary\n",
        "    '''\n",
        "    if name in pipes.keys():\n",
        "        print(f\"A pipe called '{name}' already exists!\")\n",
        "        new_name = input(\"Enter another name:]\")\n",
        "        pipes[f\"{new_name}\"] = pipe\n",
        "        print(f\"'{new_name}' added to 'pipes'\")\n",
        "    else:\n",
        "        pipes[f'{name}'] = pipe\n",
        "        print(f\"'{name}' added to 'pipes'\")"
      ],
      "metadata": {
        "id": "4VdPwfS4d6XM"
      },
      "execution_count": null,
      "outputs": []
    },
    {
      "cell_type": "code",
      "source": [
        "pipe_rfecv = Pipeline([('scaler', StandardScaler()),('rfecv',rfecv),('etr_2',etr_2)])\n",
        "add_pipe(pipe_rfecv, 'rfecv')"
      ],
      "metadata": {
        "id": "jF22ZtYZeSfb"
      },
      "execution_count": null,
      "outputs": []
    },
    {
      "cell_type": "markdown",
      "source": [
        "### EDA"
      ],
      "metadata": {
        "id": "ZSTzjn8_eTnk"
      }
    },
    {
      "cell_type": "code",
      "source": [
        "#mean population percentage with low access to grocery store by state\n",
        "df_fda.groupby('State').PCT_LACCESS_POP15.mean().plot(kind='bar',colormap='plasma',figsize=(12,4))"
      ],
      "metadata": {
        "colab": {
          "base_uri": "https://localhost:8080/",
          "height": 304
        },
        "id": "T5jITrNETLWR",
        "outputId": "00fe33d5-ef0a-41ef-93b9-0c74d9ca1d4d"
      },
      "execution_count": 206,
      "outputs": [
        {
          "output_type": "execute_result",
          "data": {
            "text/plain": [
              "<matplotlib.axes._subplots.AxesSubplot at 0x7ff13cf1bc90>"
            ]
          },
          "metadata": {},
          "execution_count": 206
        },
        {
          "output_type": "display_data",
          "data": {
            "text/plain": [
              "<Figure size 864x288 with 1 Axes>"
            ],
            "image/png": "[encoded data removed]"
          },
          "metadata": {
            "needs_background": "light"
          }
        }
      ]
    },
    {
      "cell_type": "code",
      "source": [
        "# ‘line’ : line plot (default)\n",
        "# ‘bar’ : vertical bar plot\n",
        "# ‘barh’ : horizontal bar plot\n",
        "# ‘hist’ : histogram\n",
        "# ‘box’ : boxplot\n",
        "# ‘kde’ : Kernel Density Estimation plot\n",
        "# ‘density’ : same as ‘kde’\n",
        "# ‘area’ : area plot\n",
        "# ‘pie’ : pie plot\n",
        "# ‘scatter’ : scatter plot (DataFrame only)\n",
        "# ‘hexbin’ : hexbin plot (DataFrame only)"
      ],
      "metadata": {
        "id": "rUswEnDVXqnp"
      },
      "execution_count": null,
      "outputs": []
    },
    {
      "cell_type": "code",
      "source": [
        "#mean population percentage with low access to grocery store by state\n",
        "df_fda.groupby('State').PCT_LACCESS_POP15.mean().plot(kind='pie',colormap='plasma',figsize=(24,8))"
      ],
      "metadata": {
        "colab": {
          "base_uri": "https://localhost:8080/",
          "height": 484
        },
        "id": "WSioKkJnZVXI",
        "outputId": "76021f57-7438-455f-b1f0-5b4404cf3e5f"
      },
      "execution_count": 204,
      "outputs": [
        {
          "output_type": "execute_result",
          "data": {
            "text/plain": [
              "<matplotlib.axes._subplots.AxesSubplot at 0x7ff13d1385d0>"
            ]
          },
          "metadata": {},
          "execution_count": 204
        },
        {
          "output_type": "display_data",
          "data": {
            "text/plain": [
              "<Figure size 1728x576 with 1 Axes>"
            ],
            "image/png": "[encoded data removed]"
          },
          "metadata": {}
        }
      ]
    },
    {
      "cell_type": "code",
      "source": [
        "df_fda.boxplot(column='PCT_LACCESS_POP15',by='State',figsize=(15,5))"
      ],
      "metadata": {
        "colab": {
          "base_uri": "https://localhost:8080/",
          "height": 436
        },
        "id": "5lpVfEXMZZ2D",
        "outputId": "fbde5218-7448-472a-e6a3-561f9a79883e"
      },
      "execution_count": 208,
      "outputs": [
        {
          "output_type": "stream",
          "name": "stderr",
          "text": [
            "/usr/local/lib/python3.7/dist-packages/matplotlib/cbook/__init__.py:1376: VisibleDeprecationWarning: Creating an ndarray from ragged nested sequences (which is a list-or-tuple of lists-or-tuples-or ndarrays with different lengths or shapes) is deprecated. If you meant to do this, you must specify 'dtype=object' when creating the ndarray.\n",
            "  X = np.atleast_1d(X.T if isinstance(X, np.ndarray) else np.asarray(X))\n"
          ]
        },
        {
          "output_type": "execute_result",
          "data": {
            "text/plain": [
              "<matplotlib.axes._subplots.AxesSubplot at 0x7ff13ce07f50>"
            ]
          },
          "metadata": {},
          "execution_count": 208
        },
        {
          "output_type": "display_data",
          "data": {
            "text/plain": [
              "<Figure size 1080x360 with 1 Axes>"
            ],
            "image/png": "[encoded data removed]"
          },
          "metadata": {
            "needs_background": "light"
          }
        }
      ]
    },
    {
      "cell_type": "code",
      "source": [
        "df_fda.boxplot(column='PCT_NHWHITE10',by='State',figsize=(15,5))"
      ],
      "metadata": {
        "colab": {
          "base_uri": "https://localhost:8080/",
          "height": 436
        },
        "id": "EHn4nqT-aY0y",
        "outputId": "fb25dfab-dc34-47c5-a378-60dbf2f98029"
      },
      "execution_count": 90,
      "outputs": [
        {
          "output_type": "stream",
          "name": "stderr",
          "text": [
            "/usr/local/lib/python3.7/dist-packages/matplotlib/cbook/__init__.py:1376: VisibleDeprecationWarning: Creating an ndarray from ragged nested sequences (which is a list-or-tuple of lists-or-tuples-or ndarrays with different lengths or shapes) is deprecated. If you meant to do this, you must specify 'dtype=object' when creating the ndarray.\n",
            "  X = np.atleast_1d(X.T if isinstance(X, np.ndarray) else np.asarray(X))\n"
          ]
        },
        {
          "output_type": "execute_result",
          "data": {
            "text/plain": [
              "<matplotlib.axes._subplots.AxesSubplot at 0x7fe60066e6d0>"
            ]
          },
          "metadata": {},
          "execution_count": 90
        },
        {
          "output_type": "display_data",
          "data": {
            "text/plain": [
              "<Figure size 1080x360 with 1 Axes>"
            ],
            "image/png": "[encoded data removed]"
          },
          "metadata": {
            "needs_background": "light"
          }
        }
      ]
    },
    {
      "cell_type": "code",
      "source": [
        "    "
      ],
      "metadata": {
        "id": "siwAe89YtXS-"
      },
      "execution_count": null,
      "outputs": []
    }
  ]
}